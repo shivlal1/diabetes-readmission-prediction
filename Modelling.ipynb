{
  "nbformat": 4,
  "nbformat_minor": 0,
  "metadata": {
    "colab": {
      "name": "cs1_EDA.ipynb",
      "provenance": [],
      "collapsed_sections": []
    },
    "kernelspec": {
      "display_name": "Python 3",
      "name": "python3"
    }
  },
  "cells": [
    {
      "cell_type": "markdown",
      "metadata": {
        "id": "bUOcUxXAW2YV"
      },
      "source": [
        "continue form EDA notebook\n",
        "\n",
        "     9 Data modelling\n",
        "\n",
        "        Data modelling 1 :\n",
        "            1 categorical features - one hot encoding \n",
        "            2 Real valued features - Normalization\n",
        "            3 Include All Drugs \n",
        "\n",
        "        The EDA of drugs doesn't provide much information except for the insulin drug. Try a model only with insulin\n",
        "        \n",
        "         Data modelling 2 :\n",
        "            1 categorical features - one hot encoding \n",
        "            2 Real valued features - Normalization\n",
        "            3 Include only Insulin (Don't include all drugs)\n",
        "        \n",
        "\n",
        "     10 stacking the features\n",
        "\n",
        "     11 Models\n",
        "\n",
        "            SGD \n",
        "            Logistic Regression\n",
        "            Decision Tree\n",
        "            Random Forest\n",
        "            Xgboost\n",
        "            Custom model\n",
        "\n",
        "     12 summary\n",
        "\n",
        "     13 Training the best model\n"
      ]
    },
    {
      "cell_type": "code",
      "metadata": {
        "id": "AT_ghmt7FcqC"
      },
      "source": [
        "y = df['readmitted'].values\n",
        "X = df.drop(['readmitted'], axis=1)\n",
        "\n",
        "X_train, X_test, y_train, y_test = train_test_split(X, y, test_size=0.25, stratify=y)\n",
        "X_train, X_cv, y_train, y_cv = train_test_split(X_train, y_train, test_size=0.25, stratify=y_train)"
      ],
      "execution_count": null,
      "outputs": []
    },
    {
      "cell_type": "code",
      "metadata": {
        "colab": {
          "base_uri": "https://localhost:8080/",
          "height": 326
        },
        "id": "FZ-LDlcAo9rd",
        "outputId": "dc5a0e81-2386-41f1-e794-410c3faa9553"
      },
      "source": [
        "df.head(5)"
      ],
      "execution_count": null,
      "outputs": [
        {
          "output_type": "execute_result",
          "data": {
            "text/html": [
              "<div>\n",
              "<style scoped>\n",
              "    .dataframe tbody tr th:only-of-type {\n",
              "        vertical-align: middle;\n",
              "    }\n",
              "\n",
              "    .dataframe tbody tr th {\n",
              "        vertical-align: top;\n",
              "    }\n",
              "\n",
              "    .dataframe thead th {\n",
              "        text-align: right;\n",
              "    }\n",
              "</style>\n",
              "<table border=\"1\" class=\"dataframe\">\n",
              "  <thead>\n",
              "    <tr style=\"text-align: right;\">\n",
              "      <th></th>\n",
              "      <th>race</th>\n",
              "      <th>gender</th>\n",
              "      <th>age</th>\n",
              "      <th>admission_type_id</th>\n",
              "      <th>discharge_disposition_id</th>\n",
              "      <th>admission_source_id</th>\n",
              "      <th>time_in_hospital</th>\n",
              "      <th>num_lab_procedures</th>\n",
              "      <th>num_procedures</th>\n",
              "      <th>num_medications</th>\n",
              "      <th>number_outpatient</th>\n",
              "      <th>number_emergency</th>\n",
              "      <th>number_inpatient</th>\n",
              "      <th>diag_1</th>\n",
              "      <th>number_diagnoses</th>\n",
              "      <th>max_glu_serum</th>\n",
              "      <th>A1Cresult</th>\n",
              "      <th>metformin</th>\n",
              "      <th>repaglinide</th>\n",
              "      <th>nateglinide</th>\n",
              "      <th>chlorpropamide</th>\n",
              "      <th>glimepiride</th>\n",
              "      <th>acetohexamide</th>\n",
              "      <th>glipizide</th>\n",
              "      <th>glyburide</th>\n",
              "      <th>tolbutamide</th>\n",
              "      <th>pioglitazone</th>\n",
              "      <th>rosiglitazone</th>\n",
              "      <th>acarbose</th>\n",
              "      <th>miglitol</th>\n",
              "      <th>troglitazone</th>\n",
              "      <th>tolazamide</th>\n",
              "      <th>insulin</th>\n",
              "      <th>glyburide-metformin</th>\n",
              "      <th>glipizide-metformin</th>\n",
              "      <th>glimepiride-pioglitazone</th>\n",
              "      <th>metformin-rosiglitazone</th>\n",
              "      <th>metformin-pioglitazone</th>\n",
              "      <th>change</th>\n",
              "      <th>diabetesMed</th>\n",
              "      <th>readmitted</th>\n",
              "      <th>service_utilization</th>\n",
              "      <th>total_drugs_prescribed</th>\n",
              "      <th>total_procesure</th>\n",
              "    </tr>\n",
              "  </thead>\n",
              "  <tbody>\n",
              "    <tr>\n",
              "      <th>1</th>\n",
              "      <td>Caucasian</td>\n",
              "      <td>Female</td>\n",
              "      <td>[10-20)</td>\n",
              "      <td>1</td>\n",
              "      <td>1</td>\n",
              "      <td>7</td>\n",
              "      <td>3</td>\n",
              "      <td>59</td>\n",
              "      <td>0</td>\n",
              "      <td>18</td>\n",
              "      <td>0</td>\n",
              "      <td>0</td>\n",
              "      <td>0</td>\n",
              "      <td>8</td>\n",
              "      <td>9</td>\n",
              "      <td>None</td>\n",
              "      <td>None</td>\n",
              "      <td>No</td>\n",
              "      <td>No</td>\n",
              "      <td>No</td>\n",
              "      <td>No</td>\n",
              "      <td>No</td>\n",
              "      <td>No</td>\n",
              "      <td>No</td>\n",
              "      <td>No</td>\n",
              "      <td>No</td>\n",
              "      <td>No</td>\n",
              "      <td>No</td>\n",
              "      <td>No</td>\n",
              "      <td>No</td>\n",
              "      <td>No</td>\n",
              "      <td>No</td>\n",
              "      <td>Up</td>\n",
              "      <td>No</td>\n",
              "      <td>No</td>\n",
              "      <td>No</td>\n",
              "      <td>No</td>\n",
              "      <td>No</td>\n",
              "      <td>Ch</td>\n",
              "      <td>Yes</td>\n",
              "      <td>0</td>\n",
              "      <td>0</td>\n",
              "      <td>1</td>\n",
              "      <td>59</td>\n",
              "    </tr>\n",
              "    <tr>\n",
              "      <th>2</th>\n",
              "      <td>AfricanAmerican</td>\n",
              "      <td>Female</td>\n",
              "      <td>[20-30)</td>\n",
              "      <td>1</td>\n",
              "      <td>1</td>\n",
              "      <td>7</td>\n",
              "      <td>2</td>\n",
              "      <td>11</td>\n",
              "      <td>5</td>\n",
              "      <td>13</td>\n",
              "      <td>2</td>\n",
              "      <td>0</td>\n",
              "      <td>1</td>\n",
              "      <td>9</td>\n",
              "      <td>6</td>\n",
              "      <td>None</td>\n",
              "      <td>None</td>\n",
              "      <td>No</td>\n",
              "      <td>No</td>\n",
              "      <td>No</td>\n",
              "      <td>No</td>\n",
              "      <td>No</td>\n",
              "      <td>No</td>\n",
              "      <td>Steady</td>\n",
              "      <td>No</td>\n",
              "      <td>No</td>\n",
              "      <td>No</td>\n",
              "      <td>No</td>\n",
              "      <td>No</td>\n",
              "      <td>No</td>\n",
              "      <td>No</td>\n",
              "      <td>No</td>\n",
              "      <td>No</td>\n",
              "      <td>No</td>\n",
              "      <td>No</td>\n",
              "      <td>No</td>\n",
              "      <td>No</td>\n",
              "      <td>No</td>\n",
              "      <td>No</td>\n",
              "      <td>Yes</td>\n",
              "      <td>0</td>\n",
              "      <td>3</td>\n",
              "      <td>1</td>\n",
              "      <td>16</td>\n",
              "    </tr>\n",
              "    <tr>\n",
              "      <th>3</th>\n",
              "      <td>Caucasian</td>\n",
              "      <td>Male</td>\n",
              "      <td>[30-40)</td>\n",
              "      <td>1</td>\n",
              "      <td>1</td>\n",
              "      <td>7</td>\n",
              "      <td>2</td>\n",
              "      <td>44</td>\n",
              "      <td>1</td>\n",
              "      <td>16</td>\n",
              "      <td>0</td>\n",
              "      <td>0</td>\n",
              "      <td>0</td>\n",
              "      <td>9</td>\n",
              "      <td>7</td>\n",
              "      <td>None</td>\n",
              "      <td>None</td>\n",
              "      <td>No</td>\n",
              "      <td>No</td>\n",
              "      <td>No</td>\n",
              "      <td>No</td>\n",
              "      <td>No</td>\n",
              "      <td>No</td>\n",
              "      <td>No</td>\n",
              "      <td>No</td>\n",
              "      <td>No</td>\n",
              "      <td>No</td>\n",
              "      <td>No</td>\n",
              "      <td>No</td>\n",
              "      <td>No</td>\n",
              "      <td>No</td>\n",
              "      <td>No</td>\n",
              "      <td>Up</td>\n",
              "      <td>No</td>\n",
              "      <td>No</td>\n",
              "      <td>No</td>\n",
              "      <td>No</td>\n",
              "      <td>No</td>\n",
              "      <td>Ch</td>\n",
              "      <td>Yes</td>\n",
              "      <td>0</td>\n",
              "      <td>0</td>\n",
              "      <td>1</td>\n",
              "      <td>45</td>\n",
              "    </tr>\n",
              "    <tr>\n",
              "      <th>4</th>\n",
              "      <td>Caucasian</td>\n",
              "      <td>Male</td>\n",
              "      <td>[40-50)</td>\n",
              "      <td>1</td>\n",
              "      <td>1</td>\n",
              "      <td>7</td>\n",
              "      <td>1</td>\n",
              "      <td>51</td>\n",
              "      <td>0</td>\n",
              "      <td>8</td>\n",
              "      <td>0</td>\n",
              "      <td>0</td>\n",
              "      <td>0</td>\n",
              "      <td>8</td>\n",
              "      <td>5</td>\n",
              "      <td>None</td>\n",
              "      <td>None</td>\n",
              "      <td>No</td>\n",
              "      <td>No</td>\n",
              "      <td>No</td>\n",
              "      <td>No</td>\n",
              "      <td>No</td>\n",
              "      <td>No</td>\n",
              "      <td>Steady</td>\n",
              "      <td>No</td>\n",
              "      <td>No</td>\n",
              "      <td>No</td>\n",
              "      <td>No</td>\n",
              "      <td>No</td>\n",
              "      <td>No</td>\n",
              "      <td>No</td>\n",
              "      <td>No</td>\n",
              "      <td>Steady</td>\n",
              "      <td>No</td>\n",
              "      <td>No</td>\n",
              "      <td>No</td>\n",
              "      <td>No</td>\n",
              "      <td>No</td>\n",
              "      <td>Ch</td>\n",
              "      <td>Yes</td>\n",
              "      <td>0</td>\n",
              "      <td>0</td>\n",
              "      <td>2</td>\n",
              "      <td>51</td>\n",
              "    </tr>\n",
              "    <tr>\n",
              "      <th>5</th>\n",
              "      <td>Caucasian</td>\n",
              "      <td>Male</td>\n",
              "      <td>[50-60)</td>\n",
              "      <td>2</td>\n",
              "      <td>1</td>\n",
              "      <td>2</td>\n",
              "      <td>3</td>\n",
              "      <td>31</td>\n",
              "      <td>6</td>\n",
              "      <td>16</td>\n",
              "      <td>0</td>\n",
              "      <td>0</td>\n",
              "      <td>0</td>\n",
              "      <td>1</td>\n",
              "      <td>9</td>\n",
              "      <td>None</td>\n",
              "      <td>None</td>\n",
              "      <td>No</td>\n",
              "      <td>No</td>\n",
              "      <td>No</td>\n",
              "      <td>No</td>\n",
              "      <td>No</td>\n",
              "      <td>No</td>\n",
              "      <td>No</td>\n",
              "      <td>No</td>\n",
              "      <td>No</td>\n",
              "      <td>No</td>\n",
              "      <td>No</td>\n",
              "      <td>No</td>\n",
              "      <td>No</td>\n",
              "      <td>No</td>\n",
              "      <td>No</td>\n",
              "      <td>Steady</td>\n",
              "      <td>No</td>\n",
              "      <td>No</td>\n",
              "      <td>No</td>\n",
              "      <td>No</td>\n",
              "      <td>No</td>\n",
              "      <td>No</td>\n",
              "      <td>Yes</td>\n",
              "      <td>0</td>\n",
              "      <td>0</td>\n",
              "      <td>1</td>\n",
              "      <td>37</td>\n",
              "    </tr>\n",
              "  </tbody>\n",
              "</table>\n",
              "</div>"
            ],
            "text/plain": [
              "              race  gender  ... total_drugs_prescribed  total_procesure\n",
              "1        Caucasian  Female  ...                      1               59\n",
              "2  AfricanAmerican  Female  ...                      1               16\n",
              "3        Caucasian    Male  ...                      1               45\n",
              "4        Caucasian    Male  ...                      2               51\n",
              "5        Caucasian    Male  ...                      1               37\n",
              "\n",
              "[5 rows x 44 columns]"
            ]
          },
          "metadata": {
            "tags": []
          },
          "execution_count": 15
        }
      ]
    },
    {
      "cell_type": "code",
      "metadata": {
        "id": "ZgeGZB57J8r8"
      },
      "source": [
        "d = {'[0-10)'  : 1 ,  '[10-20)' : 2, '[20-30)'  : 3, '[30-40)' : 4, '[40-50)' : 5,\n",
        "     '[50-60)' : 6 ,  '[60-70)' : 7, '[70-80)'   : 8,  '[80-90)' : 9 , '[90-100)' : 10}\n",
        "\n",
        "df['age']=df['age'].map(d)"
      ],
      "execution_count": 11,
      "outputs": []
    },
    {
      "cell_type": "code",
      "metadata": {
        "id": "eXevVALN1UVd"
      },
      "source": [
        "y = df['readmitted'].values\n",
        "X = df.drop(['readmitted'], axis=1)\n",
        "\n",
        "X_train, X_test, y_train, y_test = train_test_split(X, y, test_size=0.25, stratify=y)\n",
        "X_train, X_cv, y_train, y_cv = train_test_split(X_train, y_train, test_size=0.25, stratify=y_train)"
      ],
      "execution_count": 12,
      "outputs": []
    },
    {
      "cell_type": "code",
      "metadata": {
        "colab": {
          "base_uri": "https://localhost:8080/"
        },
        "id": "5h6REpUv12-e",
        "outputId": "a5450003-fff5-4214-95cc-a2e628a38866"
      },
      "source": [
        "print(X_train.shape, y_train.shape)\n",
        "print(X_cv.shape, y_cv.shape)\n",
        "print(X_test.shape, y_test.shape)"
      ],
      "execution_count": 13,
      "outputs": [
        {
          "output_type": "stream",
          "text": [
            "(46323, 43) (46323,)\n",
            "(15441, 43) (15441,)\n",
            "(20588, 43) (20588,)\n"
          ],
          "name": "stdout"
        }
      ]
    },
    {
      "cell_type": "code",
      "metadata": {
        "colab": {
          "base_uri": "https://localhost:8080/",
          "height": 244
        },
        "id": "wZdv2Pzv_v3O",
        "outputId": "45f27bf6-0bb4-4f48-8442-29c9da4a51ea"
      },
      "source": [
        "X_train.head()"
      ],
      "execution_count": 14,
      "outputs": [
        {
          "output_type": "execute_result",
          "data": {
            "text/html": [
              "<div>\n",
              "<style scoped>\n",
              "    .dataframe tbody tr th:only-of-type {\n",
              "        vertical-align: middle;\n",
              "    }\n",
              "\n",
              "    .dataframe tbody tr th {\n",
              "        vertical-align: top;\n",
              "    }\n",
              "\n",
              "    .dataframe thead th {\n",
              "        text-align: right;\n",
              "    }\n",
              "</style>\n",
              "<table border=\"1\" class=\"dataframe\">\n",
              "  <thead>\n",
              "    <tr style=\"text-align: right;\">\n",
              "      <th></th>\n",
              "      <th>race</th>\n",
              "      <th>gender</th>\n",
              "      <th>age</th>\n",
              "      <th>admission_type_id</th>\n",
              "      <th>discharge_disposition_id</th>\n",
              "      <th>admission_source_id</th>\n",
              "      <th>time_in_hospital</th>\n",
              "      <th>num_lab_procedures</th>\n",
              "      <th>num_procedures</th>\n",
              "      <th>num_medications</th>\n",
              "      <th>number_outpatient</th>\n",
              "      <th>number_emergency</th>\n",
              "      <th>number_inpatient</th>\n",
              "      <th>diag_1</th>\n",
              "      <th>number_diagnoses</th>\n",
              "      <th>max_glu_serum</th>\n",
              "      <th>A1Cresult</th>\n",
              "      <th>metformin</th>\n",
              "      <th>repaglinide</th>\n",
              "      <th>nateglinide</th>\n",
              "      <th>chlorpropamide</th>\n",
              "      <th>glimepiride</th>\n",
              "      <th>acetohexamide</th>\n",
              "      <th>glipizide</th>\n",
              "      <th>glyburide</th>\n",
              "      <th>tolbutamide</th>\n",
              "      <th>pioglitazone</th>\n",
              "      <th>rosiglitazone</th>\n",
              "      <th>acarbose</th>\n",
              "      <th>miglitol</th>\n",
              "      <th>troglitazone</th>\n",
              "      <th>tolazamide</th>\n",
              "      <th>insulin</th>\n",
              "      <th>glyburide-metformin</th>\n",
              "      <th>glipizide-metformin</th>\n",
              "      <th>glimepiride-pioglitazone</th>\n",
              "      <th>metformin-rosiglitazone</th>\n",
              "      <th>metformin-pioglitazone</th>\n",
              "      <th>change</th>\n",
              "      <th>diabetesMed</th>\n",
              "      <th>service_utilization</th>\n",
              "      <th>total_drugs_prescribed</th>\n",
              "      <th>total_procesure</th>\n",
              "    </tr>\n",
              "  </thead>\n",
              "  <tbody>\n",
              "    <tr>\n",
              "      <th>19592</th>\n",
              "      <td>AfricanAmerican</td>\n",
              "      <td>Male</td>\n",
              "      <td>7</td>\n",
              "      <td>1</td>\n",
              "      <td>1</td>\n",
              "      <td>7</td>\n",
              "      <td>1</td>\n",
              "      <td>53</td>\n",
              "      <td>0</td>\n",
              "      <td>5</td>\n",
              "      <td>0</td>\n",
              "      <td>0</td>\n",
              "      <td>0</td>\n",
              "      <td>8</td>\n",
              "      <td>4</td>\n",
              "      <td>None</td>\n",
              "      <td>None</td>\n",
              "      <td>No</td>\n",
              "      <td>No</td>\n",
              "      <td>No</td>\n",
              "      <td>No</td>\n",
              "      <td>No</td>\n",
              "      <td>No</td>\n",
              "      <td>No</td>\n",
              "      <td>No</td>\n",
              "      <td>No</td>\n",
              "      <td>No</td>\n",
              "      <td>Steady</td>\n",
              "      <td>No</td>\n",
              "      <td>No</td>\n",
              "      <td>No</td>\n",
              "      <td>No</td>\n",
              "      <td>Steady</td>\n",
              "      <td>No</td>\n",
              "      <td>No</td>\n",
              "      <td>No</td>\n",
              "      <td>No</td>\n",
              "      <td>No</td>\n",
              "      <td>Ch</td>\n",
              "      <td>Yes</td>\n",
              "      <td>0</td>\n",
              "      <td>2</td>\n",
              "      <td>53</td>\n",
              "    </tr>\n",
              "    <tr>\n",
              "      <th>56380</th>\n",
              "      <td>Caucasian</td>\n",
              "      <td>Female</td>\n",
              "      <td>9</td>\n",
              "      <td>1</td>\n",
              "      <td>6</td>\n",
              "      <td>7</td>\n",
              "      <td>5</td>\n",
              "      <td>44</td>\n",
              "      <td>0</td>\n",
              "      <td>19</td>\n",
              "      <td>0</td>\n",
              "      <td>0</td>\n",
              "      <td>0</td>\n",
              "      <td>1</td>\n",
              "      <td>6</td>\n",
              "      <td>None</td>\n",
              "      <td>None</td>\n",
              "      <td>No</td>\n",
              "      <td>No</td>\n",
              "      <td>No</td>\n",
              "      <td>No</td>\n",
              "      <td>No</td>\n",
              "      <td>No</td>\n",
              "      <td>No</td>\n",
              "      <td>No</td>\n",
              "      <td>No</td>\n",
              "      <td>No</td>\n",
              "      <td>No</td>\n",
              "      <td>No</td>\n",
              "      <td>No</td>\n",
              "      <td>No</td>\n",
              "      <td>No</td>\n",
              "      <td>Steady</td>\n",
              "      <td>No</td>\n",
              "      <td>No</td>\n",
              "      <td>No</td>\n",
              "      <td>No</td>\n",
              "      <td>No</td>\n",
              "      <td>No</td>\n",
              "      <td>Yes</td>\n",
              "      <td>0</td>\n",
              "      <td>1</td>\n",
              "      <td>44</td>\n",
              "    </tr>\n",
              "    <tr>\n",
              "      <th>86462</th>\n",
              "      <td>Caucasian</td>\n",
              "      <td>Male</td>\n",
              "      <td>2</td>\n",
              "      <td>1</td>\n",
              "      <td>1</td>\n",
              "      <td>7</td>\n",
              "      <td>2</td>\n",
              "      <td>1</td>\n",
              "      <td>0</td>\n",
              "      <td>2</td>\n",
              "      <td>0</td>\n",
              "      <td>0</td>\n",
              "      <td>0</td>\n",
              "      <td>9</td>\n",
              "      <td>4</td>\n",
              "      <td>None</td>\n",
              "      <td>None</td>\n",
              "      <td>No</td>\n",
              "      <td>No</td>\n",
              "      <td>No</td>\n",
              "      <td>No</td>\n",
              "      <td>No</td>\n",
              "      <td>No</td>\n",
              "      <td>No</td>\n",
              "      <td>No</td>\n",
              "      <td>No</td>\n",
              "      <td>No</td>\n",
              "      <td>No</td>\n",
              "      <td>No</td>\n",
              "      <td>No</td>\n",
              "      <td>No</td>\n",
              "      <td>No</td>\n",
              "      <td>Up</td>\n",
              "      <td>No</td>\n",
              "      <td>No</td>\n",
              "      <td>No</td>\n",
              "      <td>No</td>\n",
              "      <td>No</td>\n",
              "      <td>Ch</td>\n",
              "      <td>Yes</td>\n",
              "      <td>0</td>\n",
              "      <td>1</td>\n",
              "      <td>1</td>\n",
              "    </tr>\n",
              "    <tr>\n",
              "      <th>37285</th>\n",
              "      <td>Caucasian</td>\n",
              "      <td>Male</td>\n",
              "      <td>5</td>\n",
              "      <td>1</td>\n",
              "      <td>2</td>\n",
              "      <td>7</td>\n",
              "      <td>1</td>\n",
              "      <td>54</td>\n",
              "      <td>3</td>\n",
              "      <td>11</td>\n",
              "      <td>0</td>\n",
              "      <td>0</td>\n",
              "      <td>0</td>\n",
              "      <td>1</td>\n",
              "      <td>5</td>\n",
              "      <td>None</td>\n",
              "      <td>None</td>\n",
              "      <td>No</td>\n",
              "      <td>No</td>\n",
              "      <td>No</td>\n",
              "      <td>No</td>\n",
              "      <td>No</td>\n",
              "      <td>No</td>\n",
              "      <td>No</td>\n",
              "      <td>No</td>\n",
              "      <td>No</td>\n",
              "      <td>No</td>\n",
              "      <td>No</td>\n",
              "      <td>No</td>\n",
              "      <td>No</td>\n",
              "      <td>No</td>\n",
              "      <td>No</td>\n",
              "      <td>Steady</td>\n",
              "      <td>No</td>\n",
              "      <td>No</td>\n",
              "      <td>No</td>\n",
              "      <td>No</td>\n",
              "      <td>No</td>\n",
              "      <td>No</td>\n",
              "      <td>Yes</td>\n",
              "      <td>0</td>\n",
              "      <td>1</td>\n",
              "      <td>57</td>\n",
              "    </tr>\n",
              "    <tr>\n",
              "      <th>37798</th>\n",
              "      <td>Caucasian</td>\n",
              "      <td>Male</td>\n",
              "      <td>9</td>\n",
              "      <td>3</td>\n",
              "      <td>3</td>\n",
              "      <td>1</td>\n",
              "      <td>3</td>\n",
              "      <td>30</td>\n",
              "      <td>1</td>\n",
              "      <td>14</td>\n",
              "      <td>2</td>\n",
              "      <td>0</td>\n",
              "      <td>0</td>\n",
              "      <td>6</td>\n",
              "      <td>8</td>\n",
              "      <td>None</td>\n",
              "      <td>None</td>\n",
              "      <td>Steady</td>\n",
              "      <td>No</td>\n",
              "      <td>No</td>\n",
              "      <td>No</td>\n",
              "      <td>No</td>\n",
              "      <td>No</td>\n",
              "      <td>No</td>\n",
              "      <td>Up</td>\n",
              "      <td>No</td>\n",
              "      <td>No</td>\n",
              "      <td>No</td>\n",
              "      <td>No</td>\n",
              "      <td>No</td>\n",
              "      <td>No</td>\n",
              "      <td>No</td>\n",
              "      <td>No</td>\n",
              "      <td>No</td>\n",
              "      <td>No</td>\n",
              "      <td>No</td>\n",
              "      <td>No</td>\n",
              "      <td>No</td>\n",
              "      <td>Ch</td>\n",
              "      <td>Yes</td>\n",
              "      <td>2</td>\n",
              "      <td>2</td>\n",
              "      <td>31</td>\n",
              "    </tr>\n",
              "  </tbody>\n",
              "</table>\n",
              "</div>"
            ],
            "text/plain": [
              "                  race  gender  ...  total_drugs_prescribed  total_procesure\n",
              "19592  AfricanAmerican    Male  ...                       2               53\n",
              "56380        Caucasian  Female  ...                       1               44\n",
              "86462        Caucasian    Male  ...                       1                1\n",
              "37285        Caucasian    Male  ...                       1               57\n",
              "37798        Caucasian    Male  ...                       2               31\n",
              "\n",
              "[5 rows x 43 columns]"
            ]
          },
          "metadata": {
            "tags": []
          },
          "execution_count": 14
        }
      ]
    },
    {
      "cell_type": "markdown",
      "metadata": {
        "id": "S-PZtP1n1Xeo"
      },
      "source": [
        "1 Next step is to perform Data Modelling\n",
        "\n",
        "2 Most of the features are categorical , which can be one hot encoded\n",
        "\n",
        "4 The numerical features should be normalized \n",
        "\n",
        "5 Then all the features can be stacked together and different models can be tried to find the best model"
      ]
    },
    {
      "cell_type": "markdown",
      "metadata": {
        "id": "TOxdCblazqJ9"
      },
      "source": [
        "# 12 Data Modelling -1"
      ]
    },
    {
      "cell_type": "markdown",
      "metadata": {
        "id": "vesd0Lx6LYUG"
      },
      "source": [
        "### making data ready"
      ]
    },
    {
      "cell_type": "code",
      "metadata": {
        "colab": {
          "base_uri": "https://localhost:8080/",
          "height": 241
        },
        "id": "IiZM4sCF0FI8",
        "outputId": "0d2a3861-bce4-463e-b532-97743ecf39d5"
      },
      "source": [
        "X_train.head(5)"
      ],
      "execution_count": null,
      "outputs": [
        {
          "output_type": "execute_result",
          "data": {
            "text/html": [
              "<div>\n",
              "<style scoped>\n",
              "    .dataframe tbody tr th:only-of-type {\n",
              "        vertical-align: middle;\n",
              "    }\n",
              "\n",
              "    .dataframe tbody tr th {\n",
              "        vertical-align: top;\n",
              "    }\n",
              "\n",
              "    .dataframe thead th {\n",
              "        text-align: right;\n",
              "    }\n",
              "</style>\n",
              "<table border=\"1\" class=\"dataframe\">\n",
              "  <thead>\n",
              "    <tr style=\"text-align: right;\">\n",
              "      <th></th>\n",
              "      <th>race</th>\n",
              "      <th>gender</th>\n",
              "      <th>age</th>\n",
              "      <th>admission_type_id</th>\n",
              "      <th>discharge_disposition_id</th>\n",
              "      <th>admission_source_id</th>\n",
              "      <th>time_in_hospital</th>\n",
              "      <th>num_lab_procedures</th>\n",
              "      <th>num_procedures</th>\n",
              "      <th>num_medications</th>\n",
              "      <th>number_outpatient</th>\n",
              "      <th>number_emergency</th>\n",
              "      <th>number_inpatient</th>\n",
              "      <th>diag_1</th>\n",
              "      <th>number_diagnoses</th>\n",
              "      <th>max_glu_serum</th>\n",
              "      <th>A1Cresult</th>\n",
              "      <th>metformin</th>\n",
              "      <th>repaglinide</th>\n",
              "      <th>nateglinide</th>\n",
              "      <th>chlorpropamide</th>\n",
              "      <th>glimepiride</th>\n",
              "      <th>acetohexamide</th>\n",
              "      <th>glipizide</th>\n",
              "      <th>glyburide</th>\n",
              "      <th>tolbutamide</th>\n",
              "      <th>pioglitazone</th>\n",
              "      <th>rosiglitazone</th>\n",
              "      <th>acarbose</th>\n",
              "      <th>miglitol</th>\n",
              "      <th>troglitazone</th>\n",
              "      <th>tolazamide</th>\n",
              "      <th>insulin</th>\n",
              "      <th>glyburide-metformin</th>\n",
              "      <th>glipizide-metformin</th>\n",
              "      <th>glimepiride-pioglitazone</th>\n",
              "      <th>metformin-rosiglitazone</th>\n",
              "      <th>metformin-pioglitazone</th>\n",
              "      <th>change</th>\n",
              "      <th>diabetesMed</th>\n",
              "      <th>service_utilization</th>\n",
              "      <th>total_drugs_prescribed</th>\n",
              "      <th>total_procesure</th>\n",
              "    </tr>\n",
              "  </thead>\n",
              "  <tbody>\n",
              "    <tr>\n",
              "      <th>44442</th>\n",
              "      <td>AfricanAmerican</td>\n",
              "      <td>Female</td>\n",
              "      <td>8</td>\n",
              "      <td>2</td>\n",
              "      <td>1</td>\n",
              "      <td>7</td>\n",
              "      <td>8</td>\n",
              "      <td>1</td>\n",
              "      <td>0</td>\n",
              "      <td>22</td>\n",
              "      <td>0</td>\n",
              "      <td>0</td>\n",
              "      <td>2</td>\n",
              "      <td>2</td>\n",
              "      <td>9</td>\n",
              "      <td>None</td>\n",
              "      <td>None</td>\n",
              "      <td>No</td>\n",
              "      <td>No</td>\n",
              "      <td>No</td>\n",
              "      <td>No</td>\n",
              "      <td>No</td>\n",
              "      <td>No</td>\n",
              "      <td>No</td>\n",
              "      <td>No</td>\n",
              "      <td>No</td>\n",
              "      <td>No</td>\n",
              "      <td>Steady</td>\n",
              "      <td>No</td>\n",
              "      <td>No</td>\n",
              "      <td>No</td>\n",
              "      <td>No</td>\n",
              "      <td>Down</td>\n",
              "      <td>No</td>\n",
              "      <td>No</td>\n",
              "      <td>No</td>\n",
              "      <td>No</td>\n",
              "      <td>No</td>\n",
              "      <td>Ch</td>\n",
              "      <td>Yes</td>\n",
              "      <td>2</td>\n",
              "      <td>2</td>\n",
              "      <td>1</td>\n",
              "    </tr>\n",
              "    <tr>\n",
              "      <th>54147</th>\n",
              "      <td>Caucasian</td>\n",
              "      <td>Male</td>\n",
              "      <td>6</td>\n",
              "      <td>1</td>\n",
              "      <td>1</td>\n",
              "      <td>1</td>\n",
              "      <td>2</td>\n",
              "      <td>21</td>\n",
              "      <td>0</td>\n",
              "      <td>10</td>\n",
              "      <td>0</td>\n",
              "      <td>0</td>\n",
              "      <td>0</td>\n",
              "      <td>9</td>\n",
              "      <td>9</td>\n",
              "      <td>None</td>\n",
              "      <td>None</td>\n",
              "      <td>No</td>\n",
              "      <td>No</td>\n",
              "      <td>No</td>\n",
              "      <td>No</td>\n",
              "      <td>No</td>\n",
              "      <td>No</td>\n",
              "      <td>No</td>\n",
              "      <td>No</td>\n",
              "      <td>No</td>\n",
              "      <td>No</td>\n",
              "      <td>No</td>\n",
              "      <td>No</td>\n",
              "      <td>No</td>\n",
              "      <td>No</td>\n",
              "      <td>No</td>\n",
              "      <td>No</td>\n",
              "      <td>No</td>\n",
              "      <td>No</td>\n",
              "      <td>No</td>\n",
              "      <td>No</td>\n",
              "      <td>No</td>\n",
              "      <td>No</td>\n",
              "      <td>No</td>\n",
              "      <td>0</td>\n",
              "      <td>0</td>\n",
              "      <td>21</td>\n",
              "    </tr>\n",
              "    <tr>\n",
              "      <th>19471</th>\n",
              "      <td>Caucasian</td>\n",
              "      <td>Female</td>\n",
              "      <td>7</td>\n",
              "      <td>1</td>\n",
              "      <td>3</td>\n",
              "      <td>7</td>\n",
              "      <td>5</td>\n",
              "      <td>16</td>\n",
              "      <td>2</td>\n",
              "      <td>7</td>\n",
              "      <td>0</td>\n",
              "      <td>0</td>\n",
              "      <td>0</td>\n",
              "      <td>1</td>\n",
              "      <td>4</td>\n",
              "      <td>None</td>\n",
              "      <td>&gt;8</td>\n",
              "      <td>Steady</td>\n",
              "      <td>No</td>\n",
              "      <td>No</td>\n",
              "      <td>No</td>\n",
              "      <td>No</td>\n",
              "      <td>No</td>\n",
              "      <td>No</td>\n",
              "      <td>No</td>\n",
              "      <td>No</td>\n",
              "      <td>No</td>\n",
              "      <td>No</td>\n",
              "      <td>No</td>\n",
              "      <td>No</td>\n",
              "      <td>No</td>\n",
              "      <td>No</td>\n",
              "      <td>No</td>\n",
              "      <td>No</td>\n",
              "      <td>No</td>\n",
              "      <td>No</td>\n",
              "      <td>No</td>\n",
              "      <td>No</td>\n",
              "      <td>No</td>\n",
              "      <td>Yes</td>\n",
              "      <td>0</td>\n",
              "      <td>1</td>\n",
              "      <td>18</td>\n",
              "    </tr>\n",
              "    <tr>\n",
              "      <th>59147</th>\n",
              "      <td>AfricanAmerican</td>\n",
              "      <td>Female</td>\n",
              "      <td>7</td>\n",
              "      <td>3</td>\n",
              "      <td>1</td>\n",
              "      <td>4</td>\n",
              "      <td>1</td>\n",
              "      <td>34</td>\n",
              "      <td>6</td>\n",
              "      <td>22</td>\n",
              "      <td>0</td>\n",
              "      <td>2</td>\n",
              "      <td>0</td>\n",
              "      <td>1</td>\n",
              "      <td>9</td>\n",
              "      <td>None</td>\n",
              "      <td>None</td>\n",
              "      <td>No</td>\n",
              "      <td>No</td>\n",
              "      <td>No</td>\n",
              "      <td>No</td>\n",
              "      <td>No</td>\n",
              "      <td>No</td>\n",
              "      <td>No</td>\n",
              "      <td>No</td>\n",
              "      <td>No</td>\n",
              "      <td>No</td>\n",
              "      <td>No</td>\n",
              "      <td>No</td>\n",
              "      <td>No</td>\n",
              "      <td>No</td>\n",
              "      <td>No</td>\n",
              "      <td>Steady</td>\n",
              "      <td>No</td>\n",
              "      <td>No</td>\n",
              "      <td>No</td>\n",
              "      <td>No</td>\n",
              "      <td>No</td>\n",
              "      <td>No</td>\n",
              "      <td>Yes</td>\n",
              "      <td>2</td>\n",
              "      <td>1</td>\n",
              "      <td>40</td>\n",
              "    </tr>\n",
              "    <tr>\n",
              "      <th>86530</th>\n",
              "      <td>Caucasian</td>\n",
              "      <td>Female</td>\n",
              "      <td>9</td>\n",
              "      <td>3</td>\n",
              "      <td>1</td>\n",
              "      <td>1</td>\n",
              "      <td>6</td>\n",
              "      <td>43</td>\n",
              "      <td>4</td>\n",
              "      <td>20</td>\n",
              "      <td>0</td>\n",
              "      <td>0</td>\n",
              "      <td>0</td>\n",
              "      <td>7</td>\n",
              "      <td>9</td>\n",
              "      <td>None</td>\n",
              "      <td>None</td>\n",
              "      <td>No</td>\n",
              "      <td>No</td>\n",
              "      <td>No</td>\n",
              "      <td>No</td>\n",
              "      <td>No</td>\n",
              "      <td>No</td>\n",
              "      <td>No</td>\n",
              "      <td>No</td>\n",
              "      <td>No</td>\n",
              "      <td>No</td>\n",
              "      <td>No</td>\n",
              "      <td>No</td>\n",
              "      <td>No</td>\n",
              "      <td>No</td>\n",
              "      <td>No</td>\n",
              "      <td>No</td>\n",
              "      <td>No</td>\n",
              "      <td>No</td>\n",
              "      <td>No</td>\n",
              "      <td>No</td>\n",
              "      <td>No</td>\n",
              "      <td>No</td>\n",
              "      <td>No</td>\n",
              "      <td>0</td>\n",
              "      <td>0</td>\n",
              "      <td>47</td>\n",
              "    </tr>\n",
              "  </tbody>\n",
              "</table>\n",
              "</div>"
            ],
            "text/plain": [
              "                  race  gender  ...  total_drugs_prescribed  total_procesure\n",
              "44442  AfricanAmerican  Female  ...                       2                1\n",
              "54147        Caucasian    Male  ...                       0               21\n",
              "19471        Caucasian  Female  ...                       1               18\n",
              "59147  AfricanAmerican  Female  ...                       1               40\n",
              "86530        Caucasian  Female  ...                       0               47\n",
              "\n",
              "[5 rows x 43 columns]"
            ]
          },
          "metadata": {
            "tags": []
          },
          "execution_count": 20
        }
      ]
    },
    {
      "cell_type": "code",
      "metadata": {
        "colab": {
          "base_uri": "https://localhost:8080/"
        },
        "id": "MFoUYxxw0FLn",
        "outputId": "bf99e914-005c-4127-9fb8-f2d7702632db"
      },
      "source": [
        "#One hot encoding of race\n",
        "\n",
        "race_vectorizer = CountVectorizer()\n",
        "race_vectorizer.fit(X_train['race'].values) \n",
        "\n",
        "X_train_race = race_vectorizer.transform(X_train['race'].values)\n",
        "X_cv_race = race_vectorizer.transform(X_cv['race'].values)\n",
        "X_test_race = race_vectorizer.transform(X_test['race'].values)\n",
        "\n",
        "print(\"After vectorizations\")\n",
        "print(X_train_race.shape, y_train.shape)\n",
        "print(X_cv_race.shape, y_cv.shape)\n",
        "print(X_test_race.shape, y_test.shape)\n",
        "print(race_vectorizer.get_feature_names())\n",
        "print(\"=\"*100)"
      ],
      "execution_count": 15,
      "outputs": [
        {
          "output_type": "stream",
          "text": [
            "After vectorizations\n",
            "(46323, 5) (46323,)\n",
            "(15441, 5) (15441,)\n",
            "(20588, 5) (20588,)\n",
            "['africanamerican', 'asian', 'caucasian', 'hispanic', 'other']\n",
            "====================================================================================================\n"
          ],
          "name": "stdout"
        }
      ]
    },
    {
      "cell_type": "code",
      "metadata": {
        "id": "KgzuPnVHNaEb"
      },
      "source": [
        "import pickle"
      ],
      "execution_count": 14,
      "outputs": []
    },
    {
      "cell_type": "code",
      "metadata": {
        "id": "aTtrfvPuNbwC"
      },
      "source": [
        "pickle.dump(race_vectorizer,open('race_vec','ab'))"
      ],
      "execution_count": null,
      "outputs": []
    },
    {
      "cell_type": "code",
      "metadata": {
        "colab": {
          "base_uri": "https://localhost:8080/"
        },
        "id": "8Tu3VFSr0FUL",
        "outputId": "cd441332-d91d-45d9-f122-42042724e3ca"
      },
      "source": [
        "#One hot encoding of race\n",
        "\n",
        "gender_vectorizer = CountVectorizer()\n",
        "gender_vectorizer.fit(X_train['gender'].values) \n",
        "\n",
        "X_train_gender = gender_vectorizer.transform(X_train['gender'].values)\n",
        "X_cv_gender = gender_vectorizer.transform(X_cv['gender'].values)\n",
        "X_test_gender = gender_vectorizer.transform(X_test['gender'].values)\n",
        "\n",
        "print(\"After vectorizations\")\n",
        "print(X_train_gender.shape, y_train.shape)\n",
        "print(X_cv_gender.shape, y_cv.shape)\n",
        "print(X_test_gender.shape, y_test.shape)\n",
        "print(gender_vectorizer.get_feature_names())\n",
        "print(\"=\"*100)"
      ],
      "execution_count": 16,
      "outputs": [
        {
          "output_type": "stream",
          "text": [
            "After vectorizations\n",
            "(46323, 2) (46323,)\n",
            "(15441, 2) (15441,)\n",
            "(20588, 2) (20588,)\n",
            "['female', 'male']\n",
            "====================================================================================================\n"
          ],
          "name": "stdout"
        }
      ]
    },
    {
      "cell_type": "code",
      "metadata": {
        "id": "-e_lnhM7TVx6"
      },
      "source": [
        "pickle.dump(gender_vectorizer,open('gender_vectorizer','ab'))"
      ],
      "execution_count": null,
      "outputs": []
    },
    {
      "cell_type": "code",
      "metadata": {
        "colab": {
          "base_uri": "https://localhost:8080/"
        },
        "id": "cT5OVLR524ZQ",
        "outputId": "fbbafed7-b251-4ef3-eb07-77428e5f5588"
      },
      "source": [
        "admission_type_id_enc = OneHotEncoder(handle_unknown='ignore')\n",
        "\n",
        "X_train_admission_type = pd.DataFrame(admission_type_id_enc.fit_transform(X_train[['admission_type_id']]).toarray())\n",
        "X_cv_admission_type = pd.DataFrame(admission_type_id_enc.transform(X_cv[['admission_type_id']]).toarray())\n",
        "X_test_admission_type = pd.DataFrame(admission_type_id_enc.transform(X_test[['admission_type_id']]).toarray())\n",
        "\n",
        "\n",
        "print(X_train_admission_type.shape, y_train.shape)\n",
        "print(X_cv_admission_type.shape, y_cv.shape)\n",
        "print(X_test_admission_type.shape, y_test.shape)"
      ],
      "execution_count": 17,
      "outputs": [
        {
          "output_type": "stream",
          "text": [
            "(46323, 5) (46323,)\n",
            "(15441, 5) (15441,)\n",
            "(20588, 5) (20588,)\n"
          ],
          "name": "stdout"
        }
      ]
    },
    {
      "cell_type": "code",
      "metadata": {
        "id": "X2g-HbaNTdZI"
      },
      "source": [
        "pickle.dump(admission_type_id_enc,open('admission_type_id_enc','ab'))"
      ],
      "execution_count": null,
      "outputs": []
    },
    {
      "cell_type": "code",
      "metadata": {
        "colab": {
          "base_uri": "https://localhost:8080/"
        },
        "id": "nMl8G6XF3Neq",
        "outputId": "1487e197-cf0b-48ef-93bc-c37651f75bc6"
      },
      "source": [
        "discharge_disposition_id_enc = OneHotEncoder(handle_unknown='ignore')\n",
        "\n",
        "X_train_discharge_type = pd.DataFrame(discharge_disposition_id_enc.fit_transform(X_train[['discharge_disposition_id']]).toarray())\n",
        "X_cv_discharge_type = pd.DataFrame(discharge_disposition_id_enc.transform(X_cv[['discharge_disposition_id']]).toarray())\n",
        "X_test_discharge_type = pd.DataFrame(discharge_disposition_id_enc.transform(X_test[['discharge_disposition_id']]).toarray())\n",
        "\n",
        "\n",
        "print(X_train_discharge_type.shape, y_train.shape)\n",
        "print(X_cv_discharge_type.shape, y_cv.shape)\n",
        "print(X_test_discharge_type.shape, y_test.shape)"
      ],
      "execution_count": 18,
      "outputs": [
        {
          "output_type": "stream",
          "text": [
            "(46323, 16) (46323,)\n",
            "(15441, 16) (15441,)\n",
            "(20588, 16) (20588,)\n"
          ],
          "name": "stdout"
        }
      ]
    },
    {
      "cell_type": "code",
      "metadata": {
        "id": "xgViCslPTjR_"
      },
      "source": [
        "pickle.dump(discharge_disposition_id_enc,open('discharge_disposition_id_enc','ab'))"
      ],
      "execution_count": null,
      "outputs": []
    },
    {
      "cell_type": "code",
      "metadata": {
        "colab": {
          "base_uri": "https://localhost:8080/"
        },
        "id": "oVGwWxb5zwmQ",
        "outputId": "78bf7cac-5539-4448-d488-a890cc6c1960"
      },
      "source": [
        "admission_source_id_enc = OneHotEncoder(handle_unknown='ignore')\n",
        "\n",
        "X_train_admission_source = pd.DataFrame(admission_source_id_enc.fit_transform(X_train[['admission_source_id']]).toarray())\n",
        "X_cv_admission_source = pd.DataFrame(admission_source_id_enc.transform(X_cv[['admission_source_id']]).toarray())\n",
        "X_test_admission_source = pd.DataFrame(admission_source_id_enc.transform(X_test[['admission_source_id']]).toarray())\n",
        "\n",
        "\n",
        "print(X_train_admission_source.shape, y_train.shape)\n",
        "print(X_cv_admission_source.shape, y_cv.shape)\n",
        "print(X_test_admission_source.shape, y_test.shape)"
      ],
      "execution_count": 19,
      "outputs": [
        {
          "output_type": "stream",
          "text": [
            "(46323, 11) (46323,)\n",
            "(15441, 11) (15441,)\n",
            "(20588, 11) (20588,)\n"
          ],
          "name": "stdout"
        }
      ]
    },
    {
      "cell_type": "code",
      "metadata": {
        "id": "Ir0ouXapTpEz"
      },
      "source": [
        "pickle.dump(admission_source_id_enc,open('admission_source_id_enc','ab'))"
      ],
      "execution_count": null,
      "outputs": []
    },
    {
      "cell_type": "code",
      "metadata": {
        "colab": {
          "base_uri": "https://localhost:8080/"
        },
        "id": "cIp2rwn135-J",
        "outputId": "2d827b16-bf52-4a90-ce3d-80b090ab042b"
      },
      "source": [
        "#Normalizing the numerical feature num_lab_procedures\n",
        "time_in_hospital_normalizer = Normalizer()\n",
        "time_in_hospital_normalizer.fit(X_train['time_in_hospital'].values.reshape(1,-1))\n",
        "\n",
        "X_train_time = time_in_hospital_normalizer.transform(X_train['time_in_hospital'].values.reshape(1,-1)).reshape(-1,1)\n",
        "X_cv_time = time_in_hospital_normalizer.transform(X_cv['time_in_hospital'].values.reshape(1,-1)).reshape(-1,1)\n",
        "X_test_time = time_in_hospital_normalizer.transform(X_test['time_in_hospital'].values.reshape(1,-1)).reshape(-1,1)\n",
        "\n",
        "print(\"After vectorizations\")\n",
        "print(X_train_time.shape, y_train.shape)\n",
        "print(X_cv_time.shape, y_cv.shape)\n",
        "print(X_test_time.shape, y_test.shape)"
      ],
      "execution_count": 20,
      "outputs": [
        {
          "output_type": "stream",
          "text": [
            "After vectorizations\n",
            "(46323, 1) (46323,)\n",
            "(15441, 1) (15441,)\n",
            "(20588, 1) (20588,)\n"
          ],
          "name": "stdout"
        }
      ]
    },
    {
      "cell_type": "code",
      "metadata": {
        "id": "QIVUmOPHTvya"
      },
      "source": [
        "pickle.dump(time_in_hospital_normalizer,open('time_in_hospital_normalizer','ab'))"
      ],
      "execution_count": null,
      "outputs": []
    },
    {
      "cell_type": "code",
      "metadata": {
        "colab": {
          "base_uri": "https://localhost:8080/"
        },
        "id": "ujcKqv-JFYx4",
        "outputId": "264c4119-08a7-42f7-e3f0-74dd5a176bc5"
      },
      "source": [
        "#Normalizing the numerical feature num_lab_procedures\n",
        "num_lab_procedures_normalizer = Normalizer()\n",
        "num_lab_procedures_normalizer.fit(X_train['num_lab_procedures'].values.reshape(1,-1))\n",
        "\n",
        "X_train_num_lab_procedures = num_lab_procedures_normalizer.transform(X_train['num_lab_procedures'].values.reshape(1,-1)).reshape(-1,1)\n",
        "X_cv_num_lab_procedures = num_lab_procedures_normalizer.transform(X_cv['num_lab_procedures'].values.reshape(1,-1)).reshape(-1,1)\n",
        "X_test_num_lab_procedures = num_lab_procedures_normalizer.transform(X_test['num_lab_procedures'].values.reshape(1,-1)).reshape(-1,1)\n",
        "\n",
        "print(\"After vectorizations\")\n",
        "print(X_train_num_lab_procedures.shape, y_train.shape)\n",
        "print(X_cv_num_lab_procedures.shape, y_cv.shape)\n",
        "print(X_test_num_lab_procedures.shape, y_test.shape)"
      ],
      "execution_count": 21,
      "outputs": [
        {
          "output_type": "stream",
          "text": [
            "After vectorizations\n",
            "(46323, 1) (46323,)\n",
            "(15441, 1) (15441,)\n",
            "(20588, 1) (20588,)\n"
          ],
          "name": "stdout"
        }
      ]
    },
    {
      "cell_type": "code",
      "metadata": {
        "id": "w5NUasVPTzfR"
      },
      "source": [
        "pickle.dump(num_lab_procedures_normalizer,open('num_lab_procedures_normalizer','ab'))"
      ],
      "execution_count": null,
      "outputs": []
    },
    {
      "cell_type": "code",
      "metadata": {
        "colab": {
          "base_uri": "https://localhost:8080/"
        },
        "id": "qq-tO5ZzFY1Z",
        "outputId": "1647c090-4314-40a6-b227-1345b2ca1694"
      },
      "source": [
        "#Normalizing the numerical feature num_lab_procedures\n",
        "\n",
        "num_procedures_normalizer = Normalizer()\n",
        "num_procedures_normalizer.fit(X_train['num_procedures'].values.reshape(1,-1))\n",
        "\n",
        "X_train_num_procedures = num_procedures_normalizer.transform(X_train['num_procedures'].values.reshape(1,-1)).reshape(-1,1)\n",
        "X_cv_num_procedures = num_procedures_normalizer.transform(X_cv['num_procedures'].values.reshape(1,-1)).reshape(-1,1)\n",
        "X_test_num_procedures = num_procedures_normalizer.transform(X_test['num_procedures'].values.reshape(1,-1)).reshape(-1,1)\n",
        "\n",
        "print(\"After vectorizations\")\n",
        "print(X_train_num_procedures.shape, y_train.shape)\n",
        "print(X_cv_num_procedures.shape, y_cv.shape)\n",
        "print(X_test_num_procedures.shape, y_test.shape)"
      ],
      "execution_count": 22,
      "outputs": [
        {
          "output_type": "stream",
          "text": [
            "After vectorizations\n",
            "(46323, 1) (46323,)\n",
            "(15441, 1) (15441,)\n",
            "(20588, 1) (20588,)\n"
          ],
          "name": "stdout"
        }
      ]
    },
    {
      "cell_type": "code",
      "metadata": {
        "id": "aC1La7QLT4o-"
      },
      "source": [
        "pickle.dump(num_procedures_normalizer,open('num_procedures_normalizer','ab'))"
      ],
      "execution_count": null,
      "outputs": []
    },
    {
      "cell_type": "code",
      "metadata": {
        "colab": {
          "base_uri": "https://localhost:8080/"
        },
        "id": "CLLDmXdp4HQn",
        "outputId": "f71029ca-5680-43c8-a8a1-3635717027ad"
      },
      "source": [
        "#Normalizing the numerical feature num_medications\n",
        "\n",
        "num_medications_normalizer = Normalizer()\n",
        "num_medications_normalizer.fit(X_train['num_medications'].values.reshape(1,-1))\n",
        "\n",
        "X_train_num_medications = num_medications_normalizer.transform(X_train['num_medications'].values.reshape(1,-1)).reshape(-1,1)\n",
        "X_cv_num_medications = num_medications_normalizer.transform(X_cv['num_medications'].values.reshape(1,-1)).reshape(-1,1)\n",
        "X_test_num_medications = num_medications_normalizer.transform(X_test['num_medications'].values.reshape(1,-1)).reshape(-1,1)\n",
        "\n",
        "print(\"After vectorizations\")\n",
        "print(X_train_num_medications.shape, y_train.shape)\n",
        "print(X_cv_num_medications.shape, y_cv.shape)\n",
        "print(X_test_num_medications.shape, y_test.shape)"
      ],
      "execution_count": 23,
      "outputs": [
        {
          "output_type": "stream",
          "text": [
            "After vectorizations\n",
            "(46323, 1) (46323,)\n",
            "(15441, 1) (15441,)\n",
            "(20588, 1) (20588,)\n"
          ],
          "name": "stdout"
        }
      ]
    },
    {
      "cell_type": "code",
      "metadata": {
        "id": "WVgXfDfoUACb"
      },
      "source": [
        "pickle.dump(num_medications_normalizer,open('num_medications_normalizer','ab'))"
      ],
      "execution_count": null,
      "outputs": []
    },
    {
      "cell_type": "code",
      "metadata": {
        "colab": {
          "base_uri": "https://localhost:8080/"
        },
        "id": "3FRTB2li4yt9",
        "outputId": "886919ba-7639-4d48-bffd-fe1472d740d4"
      },
      "source": [
        "#Normalizing the numerical feature num_medications\n",
        "\n",
        "number_outpatient_normalizer = Normalizer()\n",
        "number_outpatient_normalizer.fit(X_train['number_outpatient'].values.reshape(1,-1))\n",
        "\n",
        "X_train_number_outpatient = number_outpatient_normalizer.transform(X_train['number_outpatient'].values.reshape(1,-1)).reshape(-1,1)\n",
        "X_cv_number_outpatient = number_outpatient_normalizer.transform(X_cv['number_outpatient'].values.reshape(1,-1)).reshape(-1,1)\n",
        "X_test_number_outpatient = number_outpatient_normalizer.transform(X_test['number_outpatient'].values.reshape(1,-1)).reshape(-1,1)\n",
        "\n",
        "print(\"After vectorizations\")\n",
        "print(X_train_number_outpatient.shape, y_train.shape)\n",
        "print(X_cv_number_outpatient.shape, y_cv.shape)\n",
        "print(X_test_number_outpatient.shape, y_test.shape)"
      ],
      "execution_count": 24,
      "outputs": [
        {
          "output_type": "stream",
          "text": [
            "After vectorizations\n",
            "(46323, 1) (46323,)\n",
            "(15441, 1) (15441,)\n",
            "(20588, 1) (20588,)\n"
          ],
          "name": "stdout"
        }
      ]
    },
    {
      "cell_type": "code",
      "metadata": {
        "id": "0suFa16VUD3p"
      },
      "source": [
        "pickle.dump(number_outpatient_normalizer,open('number_outpatient_normalizer','ab'))"
      ],
      "execution_count": null,
      "outputs": []
    },
    {
      "cell_type": "code",
      "metadata": {
        "colab": {
          "base_uri": "https://localhost:8080/"
        },
        "id": "FMggMeAv40wc",
        "outputId": "37d2ad96-6dd5-45f7-b0e2-8b2ac37ab788"
      },
      "source": [
        "#Normalizing the numerical feature num_medications\n",
        "\n",
        "number_emergency_normalizer = Normalizer()\n",
        "number_emergency_normalizer.fit(X_train['number_emergency'].values.reshape(1,-1))\n",
        "\n",
        "X_train_emergency = number_emergency_normalizer.transform(X_train['number_emergency'].values.reshape(1,-1)).reshape(-1,1)\n",
        "X_cv_emergency = number_emergency_normalizer.transform(X_cv['number_emergency'].values.reshape(1,-1)).reshape(-1,1)\n",
        "X_test_emergency = number_emergency_normalizer.transform(X_test['number_emergency'].values.reshape(1,-1)).reshape(-1,1)\n",
        "\n",
        "print(\"After vectorizations\")\n",
        "print(X_train_emergency.shape, y_train.shape)\n",
        "print(X_cv_emergency.shape, y_cv.shape)\n",
        "print(X_test_emergency.shape, y_test.shape)"
      ],
      "execution_count": 25,
      "outputs": [
        {
          "output_type": "stream",
          "text": [
            "After vectorizations\n",
            "(46323, 1) (46323,)\n",
            "(15441, 1) (15441,)\n",
            "(20588, 1) (20588,)\n"
          ],
          "name": "stdout"
        }
      ]
    },
    {
      "cell_type": "code",
      "metadata": {
        "id": "ImpTWo5pUH0T"
      },
      "source": [
        "pickle.dump(number_emergency_normalizer,open('number_emergency_normalizer','ab'))"
      ],
      "execution_count": null,
      "outputs": []
    },
    {
      "cell_type": "code",
      "metadata": {
        "colab": {
          "base_uri": "https://localhost:8080/"
        },
        "id": "BEj3X7mx40zD",
        "outputId": "cb9a7f98-d5bf-436d-ce56-91f08b0cbe79"
      },
      "source": [
        "#Normalizing the numerical feature num_medications\n",
        "\n",
        "number_inpatient_normalizer = Normalizer()\n",
        "number_inpatient_normalizer.fit(X_train['number_inpatient'].values.reshape(1,-1))\n",
        "\n",
        "X_train_number_inpatient = number_inpatient_normalizer.transform(X_train['number_inpatient'].values.reshape(1,-1)).reshape(-1,1)\n",
        "X_cv_number_inpatient = number_inpatient_normalizer.transform(X_cv['number_inpatient'].values.reshape(1,-1)).reshape(-1,1)\n",
        "X_test_number_inpatient = number_inpatient_normalizer.transform(X_test['number_inpatient'].values.reshape(1,-1)).reshape(-1,1)\n",
        "\n",
        "print(\"After vectorizations\")\n",
        "print(X_train_number_inpatient.shape, y_train.shape)\n",
        "print(X_cv_number_inpatient.shape, y_cv.shape)\n",
        "print(X_test_number_inpatient.shape, y_test.shape)"
      ],
      "execution_count": 26,
      "outputs": [
        {
          "output_type": "stream",
          "text": [
            "After vectorizations\n",
            "(46323, 1) (46323,)\n",
            "(15441, 1) (15441,)\n",
            "(20588, 1) (20588,)\n"
          ],
          "name": "stdout"
        }
      ]
    },
    {
      "cell_type": "code",
      "metadata": {
        "id": "stC0spc3UL58"
      },
      "source": [
        "pickle.dump(number_inpatient_normalizer,open('number_inpatient_normalizer','ab'))"
      ],
      "execution_count": null,
      "outputs": []
    },
    {
      "cell_type": "code",
      "metadata": {
        "colab": {
          "base_uri": "https://localhost:8080/"
        },
        "id": "ssvmpWnY5bOT",
        "outputId": "60f8f107-b811-4336-bcac-59a36cd0ba03"
      },
      "source": [
        "diag_1_enc = OneHotEncoder(handle_unknown='ignore')\n",
        "\n",
        "X_train_diag_1 = pd.DataFrame(diag_1_enc.fit_transform(X_train[['diag_1']]).toarray())\n",
        "X_cv_diag_1 = pd.DataFrame(diag_1_enc.transform(X_cv[['diag_1']]).toarray())\n",
        "X_test_diag_1 = pd.DataFrame(diag_1_enc.transform(X_test[['diag_1']]).toarray())\n",
        "\n",
        "\n",
        "print(X_train_diag_1.shape, y_train.shape)\n",
        "print(X_cv_diag_1.shape, y_cv.shape)\n",
        "print(X_test_diag_1.shape, y_test.shape)"
      ],
      "execution_count": 27,
      "outputs": [
        {
          "output_type": "stream",
          "text": [
            "(46323, 9) (46323,)\n",
            "(15441, 9) (15441,)\n",
            "(20588, 9) (20588,)\n"
          ],
          "name": "stdout"
        }
      ]
    },
    {
      "cell_type": "code",
      "metadata": {
        "id": "VqJgsPdqUQAq"
      },
      "source": [
        "pickle.dump(diag_1_enc,open('diag_1_enc','ab'))"
      ],
      "execution_count": null,
      "outputs": []
    },
    {
      "cell_type": "code",
      "metadata": {
        "colab": {
          "base_uri": "https://localhost:8080/"
        },
        "id": "6666USwDCi9D",
        "outputId": "819702d9-9c49-4d5a-e357-7288a956f04a"
      },
      "source": [
        "#Normalizing the numerical feature num_medications\n",
        "\n",
        "number_diagnoses_normalizer = Normalizer()\n",
        "number_diagnoses_normalizer.fit(X_train['number_diagnoses'].values.reshape(1,-1))\n",
        "\n",
        "X_train_num_diag = number_diagnoses_normalizer.transform(X_train['number_diagnoses'].values.reshape(1,-1)).reshape(-1,1)\n",
        "X_cv_num_diag = number_diagnoses_normalizer.transform(X_cv['number_diagnoses'].values.reshape(1,-1)).reshape(-1,1)\n",
        "X_test_num_diag = number_diagnoses_normalizer.transform(X_test['number_diagnoses'].values.reshape(1,-1)).reshape(-1,1)\n",
        "\n",
        "print(\"After vectorizations\")\n",
        "print(X_train_num_diag.shape, y_train.shape)\n",
        "print(X_cv_num_diag.shape, y_cv.shape)\n",
        "print(X_test_num_diag.shape, y_test.shape)"
      ],
      "execution_count": 28,
      "outputs": [
        {
          "output_type": "stream",
          "text": [
            "After vectorizations\n",
            "(46323, 1) (46323,)\n",
            "(15441, 1) (15441,)\n",
            "(20588, 1) (20588,)\n"
          ],
          "name": "stdout"
        }
      ]
    },
    {
      "cell_type": "code",
      "metadata": {
        "id": "V8V-fma_UVxV"
      },
      "source": [
        "pickle.dump(number_diagnoses_normalizer,open('number_diagnoses_normalizer','ab'))"
      ],
      "execution_count": null,
      "outputs": []
    },
    {
      "cell_type": "code",
      "metadata": {
        "colab": {
          "base_uri": "https://localhost:8080/"
        },
        "id": "9Dh_CymrC6a0",
        "outputId": "cbdb4262-efee-47ab-e30d-684cb21ffdd0"
      },
      "source": [
        "max_glu_serum_enc = OneHotEncoder(handle_unknown='ignore')\n",
        "\n",
        "X_train_max_glu_serum = pd.DataFrame(max_glu_serum_enc.fit_transform(X_train[['max_glu_serum']]).toarray())\n",
        "X_cv_max_glu_serum = pd.DataFrame(max_glu_serum_enc.transform(X_cv[['max_glu_serum']]).toarray())\n",
        "X_test_max_glu_serum = pd.DataFrame(max_glu_serum_enc.transform(X_test[['max_glu_serum']]).toarray())\n",
        "\n",
        "print(X_train_max_glu_serum.shape, y_train.shape)\n",
        "print(X_cv_max_glu_serum.shape, y_cv.shape)\n",
        "print(X_test_max_glu_serum.shape, y_test.shape)"
      ],
      "execution_count": 29,
      "outputs": [
        {
          "output_type": "stream",
          "text": [
            "(46323, 4) (46323,)\n",
            "(15441, 4) (15441,)\n",
            "(20588, 4) (20588,)\n"
          ],
          "name": "stdout"
        }
      ]
    },
    {
      "cell_type": "code",
      "metadata": {
        "id": "FKExHhZGUanD"
      },
      "source": [
        "pickle.dump(max_glu_serum_enc,open('max_glu_serum_enc','ab'))"
      ],
      "execution_count": null,
      "outputs": []
    },
    {
      "cell_type": "code",
      "metadata": {
        "colab": {
          "base_uri": "https://localhost:8080/"
        },
        "id": "dqKU3PslF0an",
        "outputId": "ce7bbdcb-9129-4fc9-ec0d-5f2008d1af62"
      },
      "source": [
        "A1Cresult_enc = OneHotEncoder(handle_unknown='ignore')\n",
        "\n",
        "X_train_a1c = pd.DataFrame(A1Cresult_enc.fit_transform(X_train[['A1Cresult']]).toarray())\n",
        "X_cv_a1c = pd.DataFrame(A1Cresult_enc.transform(X_cv[['A1Cresult']]).toarray())\n",
        "X_test_a1c = pd.DataFrame(A1Cresult_enc.transform(X_test[['A1Cresult']]).toarray())\n",
        "\n",
        "print(X_train_a1c.shape, y_train.shape)\n",
        "print(X_cv_a1c.shape, y_cv.shape)\n",
        "print(X_test_a1c.shape, y_test.shape)"
      ],
      "execution_count": 30,
      "outputs": [
        {
          "output_type": "stream",
          "text": [
            "(46323, 4) (46323,)\n",
            "(15441, 4) (15441,)\n",
            "(20588, 4) (20588,)\n"
          ],
          "name": "stdout"
        }
      ]
    },
    {
      "cell_type": "code",
      "metadata": {
        "id": "FT0l9cyHUehh"
      },
      "source": [
        "pickle.dump(A1Cresult_enc,open('A1Cresult_enc','ab'))"
      ],
      "execution_count": null,
      "outputs": []
    },
    {
      "cell_type": "code",
      "metadata": {
        "colab": {
          "base_uri": "https://localhost:8080/"
        },
        "id": "vhxgZ22tDAHq",
        "outputId": "9f547cf5-0851-4328-eb13-18524a132049"
      },
      "source": [
        "#One hot encoding of metformin\n",
        "\n",
        "metaformin_vectorizer = CountVectorizer()\n",
        "metaformin_vectorizer.fit(X_train['metformin'].values) \n",
        "\n",
        "X_train_metformin = metaformin_vectorizer.transform(X_train['metformin'].values)\n",
        "X_cv_metformin = metaformin_vectorizer.transform(X_cv['metformin'].values)\n",
        "X_test_metformin = metaformin_vectorizer.transform(X_test['metformin'].values)\n",
        "\n",
        "print(\"After vectorizations\")\n",
        "print(X_train_metformin.shape, y_train.shape)\n",
        "print(X_cv_metformin.shape, y_cv.shape)\n",
        "print(X_test_metformin.shape, y_test.shape)\n",
        "print(metaformin_vectorizer.get_feature_names())\n",
        "print(\"=\"*100)"
      ],
      "execution_count": 31,
      "outputs": [
        {
          "output_type": "stream",
          "text": [
            "After vectorizations\n",
            "(46323, 4) (46323,)\n",
            "(15441, 4) (15441,)\n",
            "(20588, 4) (20588,)\n",
            "['down', 'no', 'steady', 'up']\n",
            "====================================================================================================\n"
          ],
          "name": "stdout"
        }
      ]
    },
    {
      "cell_type": "code",
      "metadata": {
        "id": "s5SHGCyMUi9h"
      },
      "source": [
        "pickle.dump(metaformin_vectorizer,open('metaformin_vectorizer','ab'))"
      ],
      "execution_count": null,
      "outputs": []
    },
    {
      "cell_type": "code",
      "metadata": {
        "colab": {
          "base_uri": "https://localhost:8080/"
        },
        "id": "WJfv7wyaDANB",
        "outputId": "eecc1249-be69-40a3-ef2c-405b770eed0e"
      },
      "source": [
        "#One hot encoding of repaglinide\n",
        "\n",
        "repaglinide_vectorizer = CountVectorizer()\n",
        "repaglinide_vectorizer.fit(X_train['repaglinide'].values) \n",
        "\n",
        "X_train_repaglinide = repaglinide_vectorizer.transform(X_train['repaglinide'].values)\n",
        "X_cv_repaglinide = repaglinide_vectorizer.transform(X_cv['repaglinide'].values)\n",
        "X_test_repaglinide = repaglinide_vectorizer.transform(X_test['repaglinide'].values)\n",
        "\n",
        "print(\"After vectorizations\")\n",
        "print(X_train_repaglinide.shape, y_train.shape)\n",
        "print(X_cv_repaglinide.shape, y_cv.shape)\n",
        "print(X_test_repaglinide.shape, y_test.shape)\n",
        "print(repaglinide_vectorizer.get_feature_names())\n",
        "print(\"=\"*100)"
      ],
      "execution_count": 32,
      "outputs": [
        {
          "output_type": "stream",
          "text": [
            "After vectorizations\n",
            "(46323, 4) (46323,)\n",
            "(15441, 4) (15441,)\n",
            "(20588, 4) (20588,)\n",
            "['down', 'no', 'steady', 'up']\n",
            "====================================================================================================\n"
          ],
          "name": "stdout"
        }
      ]
    },
    {
      "cell_type": "code",
      "metadata": {
        "id": "qPGpZQpzUnf4"
      },
      "source": [
        "pickle.dump(repaglinide_vectorizer,open('repaglinide_vectorizer','ab'))"
      ],
      "execution_count": null,
      "outputs": []
    },
    {
      "cell_type": "code",
      "metadata": {
        "colab": {
          "base_uri": "https://localhost:8080/"
        },
        "id": "GIOT4DHODJr-",
        "outputId": "0d77205b-5a7e-4de0-b765-ddbfd8e07d52"
      },
      "source": [
        "#One hot encoding of nateglinide\n",
        "\n",
        "nateglinide_vectorizer = CountVectorizer()\n",
        "nateglinide_vectorizer.fit(X_train['nateglinide'].values) \n",
        "\n",
        "X_train_nateglinide = nateglinide_vectorizer.transform(X_train['nateglinide'].values)\n",
        "X_cv_nateglinide = nateglinide_vectorizer.transform(X_cv['nateglinide'].values)\n",
        "X_test_nateglinide = nateglinide_vectorizer.transform(X_test['nateglinide'].values)\n",
        "\n",
        "print(\"After vectorizations\")\n",
        "print(X_train_nateglinide.shape, y_train.shape)\n",
        "print(X_cv_nateglinide.shape, y_cv.shape)\n",
        "print(X_test_nateglinide.shape, y_test.shape)\n",
        "print(nateglinide_vectorizer.get_feature_names())\n",
        "print(\"=\"*100)"
      ],
      "execution_count": 33,
      "outputs": [
        {
          "output_type": "stream",
          "text": [
            "After vectorizations\n",
            "(46323, 4) (46323,)\n",
            "(15441, 4) (15441,)\n",
            "(20588, 4) (20588,)\n",
            "['down', 'no', 'steady', 'up']\n",
            "====================================================================================================\n"
          ],
          "name": "stdout"
        }
      ]
    },
    {
      "cell_type": "code",
      "metadata": {
        "colab": {
          "base_uri": "https://localhost:8080/"
        },
        "id": "YOoV0uX0DMC_",
        "outputId": "7e4c40f1-30a1-4d74-a98a-4e4c9b09d098"
      },
      "source": [
        "#One hot encoding of chlorpropamide\n",
        "\n",
        "chlorpropamide_vectorizer = CountVectorizer()\n",
        "chlorpropamide_vectorizer.fit(X_train['chlorpropamide'].values) \n",
        "\n",
        "X_train_chlorpropamide = chlorpropamide_vectorizer.transform(X_train['chlorpropamide'].values)\n",
        "X_cv_chlorpropamide = chlorpropamide_vectorizer.transform(X_cv['chlorpropamide'].values)\n",
        "X_test_chlorpropamide = chlorpropamide_vectorizer.transform(X_test['chlorpropamide'].values)\n",
        "\n",
        "print(\"After vectorizations\")\n",
        "print(X_train_chlorpropamide.shape, y_train.shape)\n",
        "print(X_cv_chlorpropamide.shape, y_cv.shape)\n",
        "print(X_test_chlorpropamide.shape, y_test.shape)\n",
        "print(chlorpropamide_vectorizer.get_feature_names())\n",
        "print(\"=\"*100)"
      ],
      "execution_count": 34,
      "outputs": [
        {
          "output_type": "stream",
          "text": [
            "After vectorizations\n",
            "(46323, 4) (46323,)\n",
            "(15441, 4) (15441,)\n",
            "(20588, 4) (20588,)\n",
            "['down', 'no', 'steady', 'up']\n",
            "====================================================================================================\n"
          ],
          "name": "stdout"
        }
      ]
    },
    {
      "cell_type": "code",
      "metadata": {
        "colab": {
          "base_uri": "https://localhost:8080/"
        },
        "id": "tEyN716hDMGE",
        "outputId": "f8add074-8256-473f-9388-aee3265d81d5"
      },
      "source": [
        "#One hot encoding of glimepiride\n",
        "\n",
        "glimipiride_vectorizer = CountVectorizer()\n",
        "glimipiride_vectorizer.fit(X_train['glimepiride'].values) \n",
        "\n",
        "X_train_glimepiride = glimipiride_vectorizer.transform(X_train['glimepiride'].values)\n",
        "X_cv_glimepiride = glimipiride_vectorizer.transform(X_cv['glimepiride'].values)\n",
        "X_test_glimepiride = glimipiride_vectorizer.transform(X_test['glimepiride'].values)\n",
        "\n",
        "print(\"After vectorizations\")\n",
        "print(X_train_glimepiride.shape, y_train.shape)\n",
        "print(X_cv_glimepiride.shape, y_cv.shape)\n",
        "print(X_test_glimepiride.shape, y_test.shape)\n",
        "print(glimipiride_vectorizer.get_feature_names())\n",
        "print(\"=\"*100)"
      ],
      "execution_count": 35,
      "outputs": [
        {
          "output_type": "stream",
          "text": [
            "After vectorizations\n",
            "(46323, 4) (46323,)\n",
            "(15441, 4) (15441,)\n",
            "(20588, 4) (20588,)\n",
            "['down', 'no', 'steady', 'up']\n",
            "====================================================================================================\n"
          ],
          "name": "stdout"
        }
      ]
    },
    {
      "cell_type": "code",
      "metadata": {
        "colab": {
          "base_uri": "https://localhost:8080/"
        },
        "id": "cU4JzjlJDS6c",
        "outputId": "66a69511-00e0-4be4-8ede-5df9885474c7"
      },
      "source": [
        "#One hot encoding of glipizide\n",
        "\n",
        "glipizide_vectorizer = CountVectorizer()\n",
        "glipizide_vectorizer.fit(X_train['glipizide'].values) \n",
        "\n",
        "X_train_glipizide = glipizide_vectorizer.transform(X_train['glipizide'].values)\n",
        "X_cv_glipizide = glipizide_vectorizer.transform(X_cv['glipizide'].values)\n",
        "X_test_glipizide = glipizide_vectorizer.transform(X_test['glipizide'].values)\n",
        "\n",
        "print(\"After vectorizations\")\n",
        "print(X_train_glipizide.shape, y_train.shape)\n",
        "print(X_cv_glipizide.shape, y_cv.shape)\n",
        "print(X_test_glipizide.shape, y_test.shape)\n",
        "\n",
        "print(glipizide_vectorizer.get_feature_names())\n",
        "print(\"=\"*100)"
      ],
      "execution_count": 36,
      "outputs": [
        {
          "output_type": "stream",
          "text": [
            "After vectorizations\n",
            "(46323, 4) (46323,)\n",
            "(15441, 4) (15441,)\n",
            "(20588, 4) (20588,)\n",
            "['down', 'no', 'steady', 'up']\n",
            "====================================================================================================\n"
          ],
          "name": "stdout"
        }
      ]
    },
    {
      "cell_type": "code",
      "metadata": {
        "id": "Wck_-ywuIFpf"
      },
      "source": [
        "#miss"
      ],
      "execution_count": null,
      "outputs": []
    },
    {
      "cell_type": "code",
      "metadata": {
        "colab": {
          "base_uri": "https://localhost:8080/"
        },
        "id": "tJTHr2tVDWGu",
        "outputId": "307d5788-cb6a-41bb-8d40-7f85d4eb5cb0"
      },
      "source": [
        "#One hot encoding of glyburide\n",
        "\n",
        "glyburide_vectorizer = CountVectorizer()\n",
        "glyburide_vectorizer.fit(X_train['glyburide'].values) \n",
        "\n",
        "X_train_glyburide = glyburide_vectorizer.transform(X_train['glyburide'].values)\n",
        "X_cv_glyburide = glyburide_vectorizer.transform(X_cv['glyburide'].values)\n",
        "X_test_glyburide = glyburide_vectorizer.transform(X_test['glyburide'].values)\n",
        "\n",
        "print(\"After vectorizations\")\n",
        "print(X_train_glyburide.shape, y_train.shape)\n",
        "print(X_cv_glyburide.shape, y_cv.shape)\n",
        "print(X_test_glyburide.shape, y_test.shape)\n",
        "print(glyburide_vectorizer.get_feature_names())\n",
        "print(\"=\"*100)"
      ],
      "execution_count": 37,
      "outputs": [
        {
          "output_type": "stream",
          "text": [
            "After vectorizations\n",
            "(46323, 4) (46323,)\n",
            "(15441, 4) (15441,)\n",
            "(20588, 4) (20588,)\n",
            "['down', 'no', 'steady', 'up']\n",
            "====================================================================================================\n"
          ],
          "name": "stdout"
        }
      ]
    },
    {
      "cell_type": "code",
      "metadata": {
        "colab": {
          "base_uri": "https://localhost:8080/"
        },
        "id": "iP8ZFQzSDXYU",
        "outputId": "98e453c4-9cd0-42d8-a54d-cb77bbdd3959"
      },
      "source": [
        "#One hot encoding of tolbutamide\n",
        "\n",
        "tolbutamide_vectorizer = CountVectorizer()\n",
        "tolbutamide_vectorizer.fit(X_train['tolbutamide'].values) \n",
        "\n",
        "X_train_tolbutamide = tolbutamide_vectorizer.transform(X_train['tolbutamide'].values)\n",
        "X_cv_tolbutamide = tolbutamide_vectorizer.transform(X_cv['tolbutamide'].values)\n",
        "X_test_tolbutamide = tolbutamide_vectorizer.transform(X_test['tolbutamide'].values)\n",
        "\n",
        "print(\"After vectorizations\")\n",
        "print(X_train_tolbutamide.shape, y_train.shape)\n",
        "print(X_cv_tolbutamide.shape, y_cv.shape)\n",
        "print(X_test_tolbutamide.shape, y_test.shape)\n",
        "print(tolbutamide_vectorizer.get_feature_names())\n",
        "print(\"=\"*100)"
      ],
      "execution_count": 38,
      "outputs": [
        {
          "output_type": "stream",
          "text": [
            "After vectorizations\n",
            "(46323, 2) (46323,)\n",
            "(15441, 2) (15441,)\n",
            "(20588, 2) (20588,)\n",
            "['no', 'steady']\n",
            "====================================================================================================\n"
          ],
          "name": "stdout"
        }
      ]
    },
    {
      "cell_type": "code",
      "metadata": {
        "id": "pYFGBqQiUyrL"
      },
      "source": [
        "pickle.dump(tolbutamide_vectorizer,open('tolbutamide_vectorizer','ab'))"
      ],
      "execution_count": null,
      "outputs": []
    },
    {
      "cell_type": "code",
      "metadata": {
        "colab": {
          "base_uri": "https://localhost:8080/"
        },
        "id": "6bv5yM7jDXfS",
        "outputId": "d5754934-0199-4a09-e269-8444d1d9ac2b"
      },
      "source": [
        "#One hot encoding of pioglitazone\n",
        "\n",
        "pioglitazone_vectorizer = CountVectorizer()\n",
        "pioglitazone_vectorizer.fit(X_train['pioglitazone'].values) \n",
        "\n",
        "X_train_pioglitazone = pioglitazone_vectorizer.transform(X_train['pioglitazone'].values)\n",
        "X_cv_pioglitazone = pioglitazone_vectorizer.transform(X_cv['pioglitazone'].values)\n",
        "X_test_pioglitazone = pioglitazone_vectorizer.transform(X_test['pioglitazone'].values)\n",
        "\n",
        "print(\"After vectorizations\")\n",
        "print(X_train_pioglitazone.shape, y_train.shape)\n",
        "print(X_cv_pioglitazone.shape, y_cv.shape)\n",
        "print(X_test_pioglitazone.shape, y_test.shape)\n",
        "print(pioglitazone_vectorizer.get_feature_names())\n",
        "print(\"=\"*100)"
      ],
      "execution_count": 39,
      "outputs": [
        {
          "output_type": "stream",
          "text": [
            "After vectorizations\n",
            "(46323, 4) (46323,)\n",
            "(15441, 4) (15441,)\n",
            "(20588, 4) (20588,)\n",
            "['down', 'no', 'steady', 'up']\n",
            "====================================================================================================\n"
          ],
          "name": "stdout"
        }
      ]
    },
    {
      "cell_type": "code",
      "metadata": {
        "colab": {
          "base_uri": "https://localhost:8080/"
        },
        "id": "FXfxm8S6DXdY",
        "outputId": "948b9b25-3fbb-47ef-f162-db4ac8342187"
      },
      "source": [
        "#One hot encoding of rosiglitazone\n",
        "\n",
        "rosiglitazone_vectorizer = CountVectorizer()\n",
        "rosiglitazone_vectorizer.fit(X_train['rosiglitazone'].values) \n",
        "\n",
        "X_train_rosiglitazone = rosiglitazone_vectorizer.transform(X_train['rosiglitazone'].values)\n",
        "X_cv_rosiglitazone = rosiglitazone_vectorizer.transform(X_cv['rosiglitazone'].values)\n",
        "X_test_rosiglitazone = rosiglitazone_vectorizer.transform(X_test['rosiglitazone'].values)\n",
        "\n",
        "print(\"After vectorizations\")\n",
        "print(X_train_rosiglitazone.shape, y_train.shape)\n",
        "print(X_cv_rosiglitazone.shape, y_cv.shape)\n",
        "print(X_test_rosiglitazone.shape, y_test.shape)\n",
        "print(rosiglitazone_vectorizer.get_feature_names())\n",
        "print(\"=\"*100)"
      ],
      "execution_count": 40,
      "outputs": [
        {
          "output_type": "stream",
          "text": [
            "After vectorizations\n",
            "(46323, 4) (46323,)\n",
            "(15441, 4) (15441,)\n",
            "(20588, 4) (20588,)\n",
            "['down', 'no', 'steady', 'up']\n",
            "====================================================================================================\n"
          ],
          "name": "stdout"
        }
      ]
    },
    {
      "cell_type": "code",
      "metadata": {
        "colab": {
          "base_uri": "https://localhost:8080/"
        },
        "id": "LsOa1MI4DXb1",
        "outputId": "c8c7caee-2f3c-4e3e-8c3e-448ffcd5a2a3"
      },
      "source": [
        "#One hot encoding of acarbose\n",
        "\n",
        "acarbose_vectorizer = CountVectorizer()\n",
        "acarbose_vectorizer.fit(X_train['acarbose'].values) \n",
        "\n",
        "X_train_acarbose = acarbose_vectorizer.transform(X_train['acarbose'].values)\n",
        "X_cv_acarbose = acarbose_vectorizer.transform(X_cv['acarbose'].values)\n",
        "X_test_acarbose = acarbose_vectorizer.transform(X_test['acarbose'].values)\n",
        "\n",
        "print(\"After vectorizations\")\n",
        "print(X_train_acarbose.shape, y_train.shape)\n",
        "print(X_cv_acarbose.shape, y_cv.shape)\n",
        "print(X_test_acarbose.shape, y_test.shape)\n",
        "print(acarbose_vectorizer.get_feature_names())\n",
        "print(\"=\"*100)"
      ],
      "execution_count": 41,
      "outputs": [
        {
          "output_type": "stream",
          "text": [
            "After vectorizations\n",
            "(46323, 4) (46323,)\n",
            "(15441, 4) (15441,)\n",
            "(20588, 4) (20588,)\n",
            "['down', 'no', 'steady', 'up']\n",
            "====================================================================================================\n"
          ],
          "name": "stdout"
        }
      ]
    },
    {
      "cell_type": "code",
      "metadata": {
        "colab": {
          "base_uri": "https://localhost:8080/"
        },
        "id": "pk2HK59vDgHX",
        "outputId": "41d1fdcc-b125-49bc-a744-8bdfab1fa565"
      },
      "source": [
        "#One hot encoding of miglitol\n",
        "\n",
        "miglitol_vectorizer = CountVectorizer()\n",
        "miglitol_vectorizer.fit(X_train['miglitol'].values) \n",
        "\n",
        "X_train_miglitol = miglitol_vectorizer.transform(X_train['miglitol'].values)\n",
        "X_cv_miglitol = miglitol_vectorizer.transform(X_cv['miglitol'].values)\n",
        "X_test_miglitol = miglitol_vectorizer.transform(X_test['miglitol'].values)\n",
        "\n",
        "print(\"After vectorizations\")\n",
        "print(X_train_miglitol.shape, y_train.shape)\n",
        "print(X_cv_miglitol.shape, y_cv.shape)\n",
        "print(X_test_miglitol.shape, y_test.shape)\n",
        "print(miglitol_vectorizer.get_feature_names())\n",
        "print(\"=\"*100)"
      ],
      "execution_count": 42,
      "outputs": [
        {
          "output_type": "stream",
          "text": [
            "After vectorizations\n",
            "(46323, 4) (46323,)\n",
            "(15441, 4) (15441,)\n",
            "(20588, 4) (20588,)\n",
            "['down', 'no', 'steady', 'up']\n",
            "====================================================================================================\n"
          ],
          "name": "stdout"
        }
      ]
    },
    {
      "cell_type": "code",
      "metadata": {
        "colab": {
          "base_uri": "https://localhost:8080/"
        },
        "id": "HeIWSHeNDgM7",
        "outputId": "ba12a8c8-9ed9-4c3a-ba22-4566003f2330"
      },
      "source": [
        "#One hot encoding of tolazamide\n",
        "\n",
        "tolazamide_vectorizer = CountVectorizer()\n",
        "tolazamide_vectorizer.fit(X_train['tolazamide'].values) \n",
        "\n",
        "X_train_tolazamide = tolazamide_vectorizer.transform(X_train['tolazamide'].values)\n",
        "X_cv_tolazamide = tolazamide_vectorizer.transform(X_cv['tolazamide'].values)\n",
        "X_test_tolazamide = tolazamide_vectorizer.transform(X_test['tolazamide'].values)\n",
        "\n",
        "print(\"After vectorizations\")\n",
        "print(X_train_tolazamide.shape, y_train.shape)\n",
        "print(X_cv_tolazamide.shape, y_cv.shape)\n",
        "print(X_test_tolazamide.shape, y_test.shape)\n",
        "print(tolazamide_vectorizer.get_feature_names())\n",
        "print(\"=\"*100)"
      ],
      "execution_count": 43,
      "outputs": [
        {
          "output_type": "stream",
          "text": [
            "After vectorizations\n",
            "(46323, 2) (46323,)\n",
            "(15441, 2) (15441,)\n",
            "(20588, 2) (20588,)\n",
            "['no', 'steady']\n",
            "====================================================================================================\n"
          ],
          "name": "stdout"
        }
      ]
    },
    {
      "cell_type": "code",
      "metadata": {
        "id": "AFPkUdQRU-4H"
      },
      "source": [
        "pickle.dump(tolazamide_vectorizer,open('tolazamide_vectorizer','ab'))"
      ],
      "execution_count": null,
      "outputs": []
    },
    {
      "cell_type": "code",
      "metadata": {
        "colab": {
          "base_uri": "https://localhost:8080/"
        },
        "id": "wpnovttEDgKX",
        "outputId": "2bb1bec9-2d67-4972-d41f-8f027d6c5105"
      },
      "source": [
        "#One hot encoding of insulin\n",
        "\n",
        "insulin_vectorizer = CountVectorizer()\n",
        "insulin_vectorizer.fit(X_train['insulin'].values) \n",
        "\n",
        "X_train_insulin = insulin_vectorizer.transform(X_train['insulin'].values)\n",
        "X_cv_insulin = insulin_vectorizer.transform(X_cv['insulin'].values)\n",
        "X_test_insulin = insulin_vectorizer.transform(X_test['insulin'].values)\n",
        "\n",
        "print(\"After vectorizations\")\n",
        "print(X_train_insulin.shape, y_train.shape)\n",
        "print(X_cv_insulin.shape, y_cv.shape)\n",
        "print(X_test_insulin.shape, y_test.shape)\n",
        "print(insulin_vectorizer.get_feature_names())\n",
        "print(\"=\"*100)"
      ],
      "execution_count": 44,
      "outputs": [
        {
          "output_type": "stream",
          "text": [
            "After vectorizations\n",
            "(46323, 4) (46323,)\n",
            "(15441, 4) (15441,)\n",
            "(20588, 4) (20588,)\n",
            "['down', 'no', 'steady', 'up']\n",
            "====================================================================================================\n"
          ],
          "name": "stdout"
        }
      ]
    },
    {
      "cell_type": "code",
      "metadata": {
        "colab": {
          "base_uri": "https://localhost:8080/"
        },
        "id": "CJBzCafXDmVX",
        "outputId": "ca6feb82-e49d-4129-da68-ad08a7fc9eb6"
      },
      "source": [
        "#One hot encoding of glyburide-metformin\n",
        "\n",
        "glyburide_metformin_vectorizer = CountVectorizer()\n",
        "glyburide_metformin_vectorizer.fit(X_train['glyburide-metformin'].values) \n",
        "\n",
        "X_train_glyburide_metformin = glyburide_metformin_vectorizer.transform(X_train['glyburide-metformin'].values)\n",
        "X_cv_glyburide_metformin = glyburide_metformin_vectorizer.transform(X_cv['glyburide-metformin'].values)\n",
        "X_test_glyburide_metformin = glyburide_metformin_vectorizer.transform(X_test['glyburide-metformin'].values)\n",
        "\n",
        "print(\"After vectorizations\")\n",
        "print(X_train_insulin.shape, y_train.shape)\n",
        "print(X_cv_insulin.shape, y_cv.shape)\n",
        "print(X_test_insulin.shape, y_test.shape)\n",
        "print(glyburide_metformin_vectorizer.get_feature_names())\n",
        "print(\"=\"*100)"
      ],
      "execution_count": 45,
      "outputs": [
        {
          "output_type": "stream",
          "text": [
            "After vectorizations\n",
            "(46323, 4) (46323,)\n",
            "(15441, 4) (15441,)\n",
            "(20588, 4) (20588,)\n",
            "['down', 'no', 'steady', 'up']\n",
            "====================================================================================================\n"
          ],
          "name": "stdout"
        }
      ]
    },
    {
      "cell_type": "code",
      "metadata": {
        "colab": {
          "base_uri": "https://localhost:8080/"
        },
        "id": "Se6yehCoDmae",
        "outputId": "dc365529-eb19-4c87-8a20-fce383d9f11f"
      },
      "source": [
        "#One hot encoding of glipizide-metformin\n",
        "\n",
        "glipizide_metformin_vectorizer = CountVectorizer()\n",
        "glipizide_metformin_vectorizer.fit(X_train['glipizide-metformin'].values) \n",
        "\n",
        "X_train_glipizide_metformin = glipizide_metformin_vectorizer.transform(X_train['glipizide-metformin'].values)\n",
        "X_cv_glipizide_metformin = glipizide_metformin_vectorizer.transform(X_cv['glipizide-metformin'].values)\n",
        "X_test_glipizide_metformin = glipizide_metformin_vectorizer.transform(X_test['glipizide-metformin'].values)\n",
        "\n",
        "print(\"After vectorizations\")\n",
        "print(X_train_glipizide_metformin.shape, y_train.shape)\n",
        "print(X_cv_glipizide_metformin.shape, y_cv.shape)\n",
        "print(X_test_glipizide_metformin.shape, y_test.shape)\n",
        "print(glipizide_metformin_vectorizer.get_feature_names())\n",
        "print(\"=\"*100)"
      ],
      "execution_count": 46,
      "outputs": [
        {
          "output_type": "stream",
          "text": [
            "After vectorizations\n",
            "(46323, 2) (46323,)\n",
            "(15441, 2) (15441,)\n",
            "(20588, 2) (20588,)\n",
            "['no', 'steady']\n",
            "====================================================================================================\n"
          ],
          "name": "stdout"
        }
      ]
    },
    {
      "cell_type": "code",
      "metadata": {
        "colab": {
          "base_uri": "https://localhost:8080/"
        },
        "id": "MF_a6ppWDmYq",
        "outputId": "8ac94991-2d5f-4413-e9db-bab2548a2370"
      },
      "source": [
        "#One hot encoding of change\n",
        "\n",
        "change_vectorizer = CountVectorizer()\n",
        "change_vectorizer.fit(X_train['change'].values) \n",
        "\n",
        "X_train_change = change_vectorizer.transform(X_train['change'].values)\n",
        "X_cv_change = change_vectorizer.transform(X_cv['change'].values)\n",
        "X_test_change = change_vectorizer.transform(X_test['change'].values)\n",
        "\n",
        "print(\"After vectorizations\")\n",
        "print(X_train_change.shape, y_train.shape)\n",
        "print(X_cv_change.shape, y_cv.shape)\n",
        "print(X_test_change.shape, y_test.shape)\n",
        "print(change_vectorizer.get_feature_names())\n",
        "print(\"=\"*100)"
      ],
      "execution_count": 47,
      "outputs": [
        {
          "output_type": "stream",
          "text": [
            "After vectorizations\n",
            "(46323, 2) (46323,)\n",
            "(15441, 2) (15441,)\n",
            "(20588, 2) (20588,)\n",
            "['ch', 'no']\n",
            "====================================================================================================\n"
          ],
          "name": "stdout"
        }
      ]
    },
    {
      "cell_type": "code",
      "metadata": {
        "id": "O-XEF_F6cifA"
      },
      "source": [
        ""
      ],
      "execution_count": null,
      "outputs": []
    },
    {
      "cell_type": "code",
      "metadata": {
        "id": "kHzylNaSVQz4"
      },
      "source": [
        "pickle.dump(change_vectorizer,open('change_vectorizer','ab'))"
      ],
      "execution_count": null,
      "outputs": []
    },
    {
      "cell_type": "code",
      "metadata": {
        "colab": {
          "base_uri": "https://localhost:8080/"
        },
        "id": "Vmb8dOzxcjmx",
        "outputId": "9756fb38-c76a-46b7-aed4-44a2047e2cdf"
      },
      "source": [
        "#One hot encoding of change\n",
        "\n",
        "diabetesMed_enc = CountVectorizer()\n",
        "diabetesMed_enc.fit(X_train['diabetesMed'].values) \n",
        "\n",
        "X_train_diabetesMed = diabetesMed_enc.transform(X_train['diabetesMed'].values)\n",
        "X_cv_diabetesMed = diabetesMed_enc.transform(X_cv['diabetesMed'].values)\n",
        "X_test_diabetesMed = diabetesMed_enc.transform(X_test['diabetesMed'].values)\n",
        "\n",
        "print(\"After vectorizations\")\n",
        "print(change_vectorizer.get_feature_names())\n",
        "print(\"=\"*100)\n",
        "\n",
        "\n",
        "print(X_train_diabetesMed.shape, y_train.shape)\n",
        "print(X_cv_diabetesMed.shape, y_cv.shape)\n",
        "print(X_test_diabetesMed.shape, y_test.shape)"
      ],
      "execution_count": 48,
      "outputs": [
        {
          "output_type": "stream",
          "text": [
            "After vectorizations\n",
            "['ch', 'no']\n",
            "====================================================================================================\n",
            "(46323, 2) (46323,)\n",
            "(15441, 2) (15441,)\n",
            "(20588, 2) (20588,)\n"
          ],
          "name": "stdout"
        }
      ]
    },
    {
      "cell_type": "code",
      "metadata": {
        "id": "5dY4bgo2VWMK"
      },
      "source": [
        "pickle.dump(diabetesMed_enc,open('diabetesMed_enc','ab'))"
      ],
      "execution_count": null,
      "outputs": []
    },
    {
      "cell_type": "code",
      "metadata": {
        "id": "PGbx_pY2geDA"
      },
      "source": [
        "X_train_age = (X_train['age'].values.reshape(-1,1))\n",
        "X_cv_age = (X_cv['age'].values.reshape(-1,1))\n",
        "X_test_age = (X_test['age'].values.reshape(-1,1))"
      ],
      "execution_count": 49,
      "outputs": []
    },
    {
      "cell_type": "code",
      "metadata": {
        "colab": {
          "base_uri": "https://localhost:8080/"
        },
        "id": "7VSkTKgGnvdW",
        "outputId": "91e875cd-5edb-44b4-e09b-a626bfe28e21"
      },
      "source": [
        "#Normalizing the numerical feature num_lab_procedures\n",
        "service_utilization_normalizer = Normalizer()\n",
        "service_utilization_normalizer.fit(X_train['service_utilization'].values.reshape(1,-1))\n",
        "\n",
        "X_train_service = service_utilization_normalizer.transform(X_train['service_utilization'].values.reshape(1,-1)).reshape(-1,1)\n",
        "X_cv_service= service_utilization_normalizer.transform(X_cv['service_utilization'].values.reshape(1,-1)).reshape(-1,1)\n",
        "X_test_service= service_utilization_normalizer.transform(X_test['service_utilization'].values.reshape(1,-1)).reshape(-1,1)\n",
        "\n",
        "print(\"After vectorizations\")\n",
        "print(X_train_service.shape, y_train.shape)\n",
        "print(X_cv_service.shape, y_cv.shape)\n",
        "print(X_test_service.shape, y_test.shape)"
      ],
      "execution_count": 50,
      "outputs": [
        {
          "output_type": "stream",
          "text": [
            "After vectorizations\n",
            "(46323, 1) (46323,)\n",
            "(15441, 1) (15441,)\n",
            "(20588, 1) (20588,)\n"
          ],
          "name": "stdout"
        }
      ]
    },
    {
      "cell_type": "code",
      "metadata": {
        "id": "F0rpO-KoVhSV"
      },
      "source": [
        "pickle.dump(service_utilization_normalizer,open('service_utilization_normalizer','ab'))"
      ],
      "execution_count": null,
      "outputs": []
    },
    {
      "cell_type": "code",
      "metadata": {
        "colab": {
          "base_uri": "https://localhost:8080/"
        },
        "id": "hvAPZveS9Yx8",
        "outputId": "86733d09-b6fb-43a4-91e1-a70b6090f445"
      },
      "source": [
        "total_procesure_normalizer = Normalizer()\n",
        "total_procesure_normalizer.fit(X_train['total_procesure'].values.reshape(1,-1))\n",
        "\n",
        "X_train_procedure = total_procesure_normalizer.transform(X_train['total_procesure'].values.reshape(1,-1)).reshape(-1,1)\n",
        "X_cv_procedure= total_procesure_normalizer.transform(X_cv['total_procesure'].values.reshape(1,-1)).reshape(-1,1)\n",
        "X_test_procedure= total_procesure_normalizer.transform(X_test['total_procesure'].values.reshape(1,-1)).reshape(-1,1)\n",
        "\n",
        "print(\"After vectorizations\")\n",
        "print(X_train_procedure.shape, y_train.shape)\n",
        "print(X_cv_procedure.shape, y_cv.shape)\n",
        "print(X_test_procedure.shape, y_test.shape)"
      ],
      "execution_count": 51,
      "outputs": [
        {
          "output_type": "stream",
          "text": [
            "After vectorizations\n",
            "(46323, 1) (46323,)\n",
            "(15441, 1) (15441,)\n",
            "(20588, 1) (20588,)\n"
          ],
          "name": "stdout"
        }
      ]
    },
    {
      "cell_type": "code",
      "metadata": {
        "id": "VLLIZV-bVoFx"
      },
      "source": [
        "pickle.dump(total_procesure_normalizer,open('total_procesure_normalizer','ab'))"
      ],
      "execution_count": null,
      "outputs": []
    },
    {
      "cell_type": "code",
      "metadata": {
        "colab": {
          "base_uri": "https://localhost:8080/"
        },
        "id": "fzr4ftAB95um",
        "outputId": "5a3720ca-72b1-41f9-aa84-7a3d90445258"
      },
      "source": [
        "total_drugs_prescribed_normalizer = Normalizer()\n",
        "total_drugs_prescribed_normalizer.fit(X_train['total_drugs_prescribed'].values.reshape(1,-1))\n",
        "\n",
        "X_train_drugs_prescribed = total_drugs_prescribed_normalizer.transform(X_train['total_drugs_prescribed'].values.reshape(1,-1)).reshape(-1,1)\n",
        "X_cv_drugs_prescribed= total_drugs_prescribed_normalizer.transform(X_cv['total_drugs_prescribed'].values.reshape(1,-1)).reshape(-1,1)\n",
        "X_test_drugs_prescribed= total_drugs_prescribed_normalizer.transform(X_test['total_drugs_prescribed'].values.reshape(1,-1)).reshape(-1,1)\n",
        "\n",
        "print(\"After vectorizations\")\n",
        "print(X_train_drugs_prescribed.shape, y_train.shape)\n",
        "print(X_cv_drugs_prescribed.shape, y_cv.shape)\n",
        "print(X_test_drugs_prescribed.shape, y_test.shape)"
      ],
      "execution_count": 52,
      "outputs": [
        {
          "output_type": "stream",
          "text": [
            "After vectorizations\n",
            "(46323, 1) (46323,)\n",
            "(15441, 1) (15441,)\n",
            "(20588, 1) (20588,)\n"
          ],
          "name": "stdout"
        }
      ]
    },
    {
      "cell_type": "code",
      "metadata": {
        "id": "zqKtKd5qVtJL"
      },
      "source": [
        "pickle.dump(total_drugs_prescribed_normalizer,open('total_drugs_prescribed_normalizer','ab'))"
      ],
      "execution_count": null,
      "outputs": []
    },
    {
      "cell_type": "markdown",
      "metadata": {
        "id": "rX64B-62G0Uh"
      },
      "source": [
        "###  Stacking the features"
      ]
    },
    {
      "cell_type": "code",
      "metadata": {
        "id": "BMLwJEhwG5P_"
      },
      "source": [
        "X_tr = hstack((X_train_race ,X_train_gender ,X_train_age,           \n",
        "               X_train_admission_type,X_train_discharge_type,X_train_admission_source,\n",
        "                X_train_time,X_train_num_lab_procedures,X_train_num_procedures,X_train_num_medications,\n",
        "               X_train_number_outpatient,X_train_emergency,X_train_number_inpatient,X_train_diag_1,X_train_num_diag,\n",
        "               X_train_max_glu_serum,X_train_a1c,X_train_metformin,\n",
        "               X_train_repaglinide , X_train_nateglinide , X_train_chlorpropamide , X_train_glimepiride , \n",
        "               X_train_glipizide , X_train_glyburide , X_train_tolbutamide, X_train_pioglitazone , X_train_rosiglitazone ,\n",
        "               X_train_acarbose , X_train_miglitol,  X_train_tolazamide , \n",
        "               X_train_insulin ,  X_train_glyburide_metformin, X_train_glipizide_metformin , \n",
        "               X_train_change,X_train_diabetesMed,\n",
        "               X_train_service,X_train_procedure,X_train_drugs_prescribed)).tocsr()"
      ],
      "execution_count": 252,
      "outputs": []
    },
    {
      "cell_type": "code",
      "metadata": {
        "id": "PzqTmzxqJDbV"
      },
      "source": [
        "X_cr = hstack((X_cv_race ,X_cv_gender ,X_cv_age,        \n",
        "               X_cv_admission_type,X_cv_discharge_type,X_cv_admission_source,\n",
        "                X_cv_time,X_cv_num_lab_procedures,X_cv_num_procedures,X_cv_num_medications,\n",
        "               X_cv_number_outpatient,X_cv_emergency,X_cv_number_inpatient,X_cv_diag_1,X_cv_num_diag,\n",
        "               X_cv_max_glu_serum,X_cv_a1c,X_cv_metformin,X_cv_repaglinide , \n",
        "               X_cv_nateglinide , X_cv_chlorpropamide , X_cv_glimepiride , \n",
        "               X_cv_glipizide , X_cv_glyburide , X_cv_tolbutamide,\n",
        "               X_cv_pioglitazone , X_cv_rosiglitazone ,X_cv_acarbose , X_cv_miglitol,\n",
        "               X_cv_tolazamide , X_cv_insulin , X_cv_glyburide_metformin,\n",
        "               X_cv_glipizide_metformin , X_cv_change,X_cv_diabetesMed,\n",
        "               X_cv_service,X_cv_procedure,X_cv_drugs_prescribed)).tocsr()"
      ],
      "execution_count": 253,
      "outputs": []
    },
    {
      "cell_type": "code",
      "metadata": {
        "id": "nZtU7HPMJTYN"
      },
      "source": [
        "X_te = hstack((X_test_race ,X_test_gender ,X_test_age,\n",
        "               X_test_admission_type,X_test_discharge_type,X_test_admission_source,\n",
        "                X_test_time,X_test_num_lab_procedures,X_test_num_procedures,X_test_num_medications,\n",
        "               X_test_number_outpatient,X_test_emergency,X_test_number_inpatient,X_test_diag_1,X_test_num_diag,\n",
        "               X_test_max_glu_serum,X_test_a1c,X_test_metformin,X_test_repaglinide , \n",
        "               X_test_nateglinide , X_test_chlorpropamide , X_test_glimepiride , \n",
        "               X_test_glipizide , X_test_glyburide , X_test_tolbutamide,\n",
        "               X_test_pioglitazone , X_test_rosiglitazone ,\n",
        "               X_test_acarbose , X_test_miglitol,X_test_tolazamide , \n",
        "               X_test_insulin , X_test_glyburide_metformin,\n",
        "               X_test_glipizide_metformin ,  X_test_change,X_test_diabetesMed,\n",
        "               X_test_service,X_test_procedure,X_test_drugs_prescribed)).tocsr()"
      ],
      "execution_count": 254,
      "outputs": []
    },
    {
      "cell_type": "markdown",
      "metadata": {
        "id": "7PSwvOWlOO2U"
      },
      "source": [
        "### Models"
      ]
    },
    {
      "cell_type": "code",
      "metadata": {
        "id": "bDL4ZtE_Kf3p"
      },
      "source": [
        "def batch_predict(clf, data):\n",
        "    # roc_auc_score(y_true, y_score) the 2nd parameter should be probability estimates of the positive class\n",
        "    # not the predicted outputs\n",
        "\n",
        "    y_data_pred = []\n",
        "    tr_loop = data.shape[0] - data.shape[0]%1000\n",
        "    # consider you X_tr shape is 49041, then your tr_loop will be 49041 - 49041%1000 = 49000\n",
        "    # in this for loop we will iterate unti the last 1000 multiplier\n",
        "    for i in range(0, tr_loop, 1000):\n",
        "        y_data_pred.extend(clf.predict_proba(data[i:i+1000])[:,1])\n",
        "    # we will be predicting for the last data points\n",
        "    if data.shape[0]%1000 !=0:\n",
        "        y_data_pred.extend(clf.predict_proba(data[tr_loop:])[:,1])\n",
        "    \n",
        "    return y_data_pred"
      ],
      "execution_count": 58,
      "outputs": []
    },
    {
      "cell_type": "code",
      "metadata": {
        "id": "wOdzijtHLshd"
      },
      "source": [
        "def find_best_threshold(threshould, fpr, tpr):\n",
        "    t = threshould[np.argmax(tpr*(1-fpr))]\n",
        "    # (tpr*(1-fpr)) will be maximum if your fpr is very low and tpr is very high\n",
        "    print(\"the maximum value of tpr*(1-fpr)\", max(tpr*(1-fpr)), \"for threshold\", np.round(t,3))\n",
        "    return t\n",
        "\n",
        "def predict_with_best_t(proba, threshould):\n",
        "    predictions = []\n",
        "    for i in proba:\n",
        "        if i>=threshould:\n",
        "            predictions.append(1)\n",
        "        else:\n",
        "            predictions.append(0)\n",
        "    return predictions"
      ],
      "execution_count": 59,
      "outputs": []
    },
    {
      "cell_type": "code",
      "metadata": {
        "id": "nX0jPLUGpAF0"
      },
      "source": [
        "from sklearn.linear_model import SGDClassifier\n",
        "from sklearn.calibration import CalibratedClassifierCV\n",
        "import math\n",
        "from sklearn.naive_bayes import MultinomialNB\n",
        "import matplotlib.pyplot as plt\n",
        "from sklearn.metrics import roc_auc_score\n",
        "from sklearn.tree import DecisionTreeClassifier\n",
        "from sklearn.ensemble import RandomForestClassifier\n",
        "from sklearn.linear_model import LogisticRegression\n",
        "from sklearn.metrics import roc_curve, auc\n",
        "from sklearn.metrics import f1_score\n",
        "from sklearn.ensemble import RandomForestClassifier\n",
        "from sklearn.model_selection import RandomizedSearchCV\n",
        "from scipy.stats import randint as sp_randint\n",
        "from scipy.stats import uniform\n",
        "from sklearn.ensemble import GradientBoostingClassifier\n",
        "from sklearn.tree import DecisionTreeClassifier\n",
        "from sklearn.ensemble import GradientBoostingClassifier\n",
        "from sklearn.metrics import confusion_matrix\n",
        "from sklearn.metrics import f1_score\n",
        "from sklearn.neighbors import KNeighborsClassifier\n",
        "from sklearn.neighbors import KNeighborsClassifier\n",
        "from sklearn.naive_bayes import MultinomialNB"
      ],
      "execution_count": 60,
      "outputs": []
    },
    {
      "cell_type": "code",
      "metadata": {
        "id": "Q3O4qngAyvS4"
      },
      "source": [
        "import imblearn\n",
        "from collections import Counter\n",
        "from sklearn.datasets import make_classification\n",
        "from matplotlib import pyplot\n",
        "from numpy import where\n",
        "from imblearn.over_sampling import SMOTE"
      ],
      "execution_count": 61,
      "outputs": []
    },
    {
      "cell_type": "code",
      "metadata": {
        "id": "rxetrPHq5pyP"
      },
      "source": [
        "def best_model(model) :\n",
        "\n",
        "  model.fit(X_tr, y_train)\n",
        "\n",
        "  y_train_pred = batch_predict(model, X_tr)    \n",
        "  y_test_pred = batch_predict(model, X_te)\n",
        "\n",
        "  train_fpr, train_tpr, tr_thresholds = roc_curve(y_train, y_train_pred)\n",
        "  test_fpr, test_tpr, te_thresholds = roc_curve(y_test, y_test_pred)\n",
        "\n",
        "  plt.plot(train_fpr, train_tpr, label=\"train AUC =\"+str(auc(train_fpr, train_tpr)))\n",
        "  plt.plot(test_fpr, test_tpr, label=\"test AUC =\"+str(auc(test_fpr, test_tpr)))\n",
        "  plt.legend()\n",
        "  plt.xlabel(\"hyperparameter\")\n",
        "  plt.ylabel(\"AUC\")\n",
        "  plt.title(\"ERROR PLOTS\")\n",
        "  plt.grid()\n",
        "  plt.show()\n",
        "\n",
        "\n",
        "  print(\"=\"*100)\n",
        "  best_t = find_best_threshold(tr_thresholds, train_fpr, train_tpr)\n",
        "\n",
        "  print('Best threshold ',best_t)\n",
        "  print(\"Train confusion matrix\")\n",
        "  print(confusion_matrix(y_train, predict_with_best_t(y_train_pred, best_t)))\n",
        "  print(\"Test confusion matrix\")\n",
        "  print(confusion_matrix(y_test, predict_with_best_t(y_test_pred, best_t)))\n",
        "\n",
        "  tn ,fp,fn,tp = confusion_matrix(y_test, predict_with_best_t(y_test_pred, best_t)).ravel()\n",
        "\n",
        "  recall = tp / (tp+fn)\n",
        "  precision = tp/(tp+fp)\n",
        "\n",
        "  print('\\nRecall ',recall)\n",
        "  print('\\nPrecision',precision)\n",
        "  print('\\nF1 Score',f1_score(y_test, predict_with_best_t(y_test_pred, best_t),average='macro'))"
      ],
      "execution_count": null,
      "outputs": []
    },
    {
      "cell_type": "markdown",
      "metadata": {
        "id": "AaWWtPYU-oGn"
      },
      "source": [
        "### SGD"
      ]
    },
    {
      "cell_type": "code",
      "metadata": {
        "id": "6iR2NJ59pKXh"
      },
      "source": [
        "def SGD(X_tr,y_train) :\n",
        "  alpha = [.00001,.0001,.001,.1,1,10]\n",
        "\n",
        "  print('alpha   Train AUC \\t    Val AUC')\n",
        "\n",
        "  for i in alpha :         \n",
        "    model = SGDClassifier(alpha=i,penalty='l1',class_weight=\"balanced\")\n",
        "    model.fit(X_tr,y_train)\n",
        "\n",
        "    calibrator = CalibratedClassifierCV(model, cv='prefit')\n",
        "    new_model=calibrator.fit(X_tr,y_train)\n",
        "\n",
        "    y_train_pred = batch_predict(new_model, X_tr)    \n",
        "    y_cv_pred = batch_predict(new_model, X_cr)\n",
        "\n",
        "    print(i,'\\t',roc_auc_score(y_train,y_train_pred),roc_auc_score(y_cv, y_cv_pred))"
      ],
      "execution_count": 211,
      "outputs": []
    },
    {
      "cell_type": "code",
      "metadata": {
        "id": "3Rsrdb6NsTTK"
      },
      "source": [
        "def sgd_best_model(alpha,X_tr,y_train) :\n",
        "\n",
        "  model = SGDClassifier(alpha=alpha,penalty='l1',class_weight=\"balanced\")\n",
        "  model.fit(X_tr,y_train)\n",
        "  calibrator = CalibratedClassifierCV(model, cv='prefit')\n",
        "  model=calibrator.fit(X_tr,y_train)\n",
        "\n",
        "\n",
        "  y_train_pred = batch_predict(model, X_tr)    \n",
        "  y_test_pred = batch_predict(model, X_te)\n",
        "\n",
        "  train_fpr, train_tpr, tr_thresholds = roc_curve(y_train, y_train_pred)\n",
        "  test_fpr, test_tpr, te_thresholds = roc_curve(y_test, y_test_pred)\n",
        "\n",
        "  plt.plot(train_fpr, train_tpr, label=\"train AUC =\"+str(auc(train_fpr, train_tpr)))\n",
        "  plt.plot(test_fpr, test_tpr, label=\"test AUC =\"+str(auc(test_fpr, test_tpr)))\n",
        "  plt.legend()\n",
        "  plt.xlabel(\"FPR\")\n",
        "  plt.ylabel(\"TPR\")\n",
        "  plt.title(\"AUC PLOT\")\n",
        "  plt.grid()\n",
        "  plt.show()\n",
        "\n",
        "\n",
        "  print(\"=\"*100)\n",
        "  best_t = find_best_threshold(tr_thresholds, train_fpr, train_tpr)\n",
        "\n",
        "  print('METRICS \\n ')\n",
        "\n",
        "  print(\"Train confusion matrix\")\n",
        "  print(confusion_matrix(y_train, predict_with_best_t(y_train_pred, best_t)))\n",
        "  print(\"Test confusion matrix\")\n",
        "  print(confusion_matrix(y_test, predict_with_best_t(y_test_pred, best_t)))\n",
        "\n",
        "  tn ,fp,fn,tp = confusion_matrix(y_test, predict_with_best_t(y_test_pred, best_t)).ravel()\n",
        "  recall = tp / (tp+fn)\n",
        "  precision = tp/(tp+fp)\n",
        "\n",
        "  print('\\nRecall ',recall)\n",
        "  print('\\nPrecision',precision)\n",
        "  print('\\nF1 Score',f1_score(y_test, predict_with_best_t(y_test_pred, best_t),average='macro'))\n"
      ],
      "execution_count": 212,
      "outputs": []
    },
    {
      "cell_type": "code",
      "metadata": {
        "colab": {
          "base_uri": "https://localhost:8080/"
        },
        "id": "szUnSGcZx4Xu",
        "outputId": "0795be76-f37e-4387-c424-f6853f955a3e"
      },
      "source": [
        "SGD(X_tr,y_train)"
      ],
      "execution_count": 115,
      "outputs": [
        {
          "output_type": "stream",
          "text": [
            "alpha   Train AUC \t    Val AUC\n",
            "1e-05 \t 0.634306060743085 0.642010385167406\n",
            "0.0001 \t 0.619205214442357 0.646565084329323\n",
            "0.001 \t 0.5966494884271023 0.6109024440632583\n",
            "0.1 \t 0.5 0.5\n",
            "1 \t 0.5 0.5\n",
            "10 \t 0.5 0.5\n"
          ],
          "name": "stdout"
        }
      ]
    },
    {
      "cell_type": "code",
      "metadata": {
        "colab": {
          "base_uri": "https://localhost:8080/",
          "height": 589
        },
        "id": "kI8GQJsNNFMF",
        "outputId": "28ec7fe6-4b01-4be3-d424-73d2234a8c0b"
      },
      "source": [
        "alpha=.00001\n",
        "sgd_best_model(alpha,X_tr,y_train)"
      ],
      "execution_count": 214,
      "outputs": [
        {
          "output_type": "display_data",
          "data": {
            "image/png": "[encoded data removed]",
            "text/plain": [
              "<Figure size 432x288 with 1 Axes>"
            ]
          },
          "metadata": {
            "tags": [],
            "needs_background": "light"
          }
        },
        {
          "output_type": "stream",
          "text": [
            "====================================================================================================\n",
            "the maximum value of tpr*(1-fpr) 0.3769852956353257 for threshold 0.109\n",
            "METRICS \n",
            " \n",
            "Train confusion matrix\n",
            "[[25577 15432]\n",
            " [ 2102  3212]]\n",
            "Test confusion matrix\n",
            "[[9821 8405]\n",
            " [ 760 1602]]\n",
            "\n",
            "Recall  0.6782387806943269\n",
            "\n",
            "Precision 0.16008793844308983\n",
            "\n",
            "F1 Score 0.47044142269399664\n"
          ],
          "name": "stdout"
        }
      ]
    },
    {
      "cell_type": "markdown",
      "metadata": {
        "id": "D5AR5x1jI9I6"
      },
      "source": [
        "###Logistic Regresssion"
      ]
    },
    {
      "cell_type": "code",
      "metadata": {
        "id": "suuq-3bFJg4A"
      },
      "source": [
        "def Logistic_regression(X_tr,y_train) :\n",
        "\n",
        "  print('C.      Train AUC \\t    Val AUC')\n",
        "\n",
        "  C = [0.001, 0.01, 0.1, 1, 10, 100, 1000]\n",
        "\n",
        "  for i in C :\n",
        "\n",
        "    model = LogisticRegression(C=i,penalty='l1', solver='liblinear')\n",
        "    model.fit(X_tr,y_train)\n",
        "    y_train_pred = batch_predict(model, X_tr)    \n",
        "    y_cv_pred = batch_predict(model, X_cr)\n",
        "    print(i,'\\t',roc_auc_score(y_train,y_train_pred),roc_auc_score(y_cv, y_cv_pred))"
      ],
      "execution_count": 145,
      "outputs": []
    },
    {
      "cell_type": "code",
      "metadata": {
        "colab": {
          "base_uri": "https://localhost:8080/"
        },
        "id": "QLv_W4CFyMnp",
        "outputId": "929d4f16-2188-4857-9787-5f054cf383a0"
      },
      "source": [
        "Logistic_regression(X_tr,y_train)"
      ],
      "execution_count": 120,
      "outputs": [
        {
          "output_type": "stream",
          "text": [
            "C.      Train AUC \t    Val AUC\n",
            "0.001 \t 0.6049651676468606 0.6135169429037084\n",
            "0.01 \t 0.6128611596710831 0.6153832211986491\n",
            "0.1 \t 0.6201252278420244 0.624100818331903\n",
            "1 \t 0.6445612473896946 0.6545526472631634\n",
            "10 \t 0.6650745391606621 0.6689112319699203\n",
            "100 \t 0.6687133119011218 0.6688536384334756\n",
            "1000 \t 0.6689039674254565 0.6684511855350799\n"
          ],
          "name": "stdout"
        }
      ]
    },
    {
      "cell_type": "code",
      "metadata": {
        "colab": {
          "base_uri": "https://localhost:8080/",
          "height": 571
        },
        "id": "sezHZr1j-KVG",
        "outputId": "c92f4575-f2d8-4efa-86b5-8fe5425e957c"
      },
      "source": [
        "c = 1000\n",
        "model = LogisticRegression(C=c,penalty='l2', solver='liblinear',class_weight=\"balanced\")\n",
        "best_model(model)"
      ],
      "execution_count": 218,
      "outputs": [
        {
          "output_type": "display_data",
          "data": {
            "image/png": "[encoded data removed]",
            "text/plain": [
              "<Figure size 432x288 with 1 Axes>"
            ]
          },
          "metadata": {
            "tags": [],
            "needs_background": "light"
          }
        },
        {
          "output_type": "stream",
          "text": [
            "====================================================================================================\n",
            "the maximum value of tpr*(1-fpr) 0.38337246219660437 for threshold 0.459\n",
            "Best threshold  0.45933412149342223\n",
            "Train confusion matrix\n",
            "[[24153 16856]\n",
            " [ 1855  3459]]\n",
            "Test confusion matrix\n",
            "[[ 7252 10974]\n",
            " [  478  1884]]\n",
            "\n",
            "Recall  0.7976291278577476\n",
            "\n",
            "Precision 0.14652356509566028\n",
            "\n",
            "F1 Score 0.40318039484185203\n"
          ],
          "name": "stdout"
        }
      ]
    },
    {
      "cell_type": "markdown",
      "metadata": {
        "id": "KAuUv6q7gtGH"
      },
      "source": [
        "### Decision Tree"
      ]
    },
    {
      "cell_type": "code",
      "metadata": {
        "id": "luIENtAbJe_9"
      },
      "source": [
        "def decision_tree(X_tr,y_train) :\n",
        "\n",
        "  depths = [1,5,10,50]\n",
        "  min_samples=[5,10,100,500]\n",
        "\n",
        "  print('DEPTH. ','Min Samples ','Train auc ','Test auc')\n",
        "\n",
        "  for depth  in (depths):\n",
        "    \n",
        "      for sample in min_samples :\n",
        "        \n",
        "          model=DecisionTreeClassifier(criterion='gini',max_depth=depth,min_samples_split=sample)\n",
        "          model.fit(X_tr, y_train)\n",
        "\n",
        "          y_train_pred = batch_predict(model, X_tr)    \n",
        "          y_cv_pred = batch_predict(model, X_cr)\n",
        "   \n",
        "          print(depth,'\\t',sample,'\\t',roc_auc_score(y_train,y_train_pred),'\\t',roc_auc_score(y_cv, y_cv_pred))"
      ],
      "execution_count": 162,
      "outputs": []
    },
    {
      "cell_type": "code",
      "metadata": {
        "colab": {
          "base_uri": "https://localhost:8080/"
        },
        "id": "BcXGUobeQGY-",
        "outputId": "f5e2eaed-c7bd-4694-b718-abb72d6cc416"
      },
      "source": [
        "decision_tree(X_tr,y_train)"
      ],
      "execution_count": null,
      "outputs": [
        {
          "output_type": "stream",
          "text": [
            "DEPTH.  Min Samples  Train auc  Test auc\n",
            "1 \t 5 \t 0.5771801008128483 \t 0.5918735396219585\n",
            "1 \t 10 \t 0.5771801008128483 \t 0.5918735396219585\n",
            "1 \t 100 \t 0.5771801008128483 \t 0.5918735396219585\n",
            "1 \t 500 \t 0.5771801008128483 \t 0.5918735396219585\n",
            "5 \t 5 \t 0.6621203100601772 \t 0.6398512468360711\n",
            "5 \t 10 \t 0.6620959641738684 \t 0.6398518661214092\n",
            "5 \t 100 \t 0.6620269141834375 \t 0.6412783279692214\n",
            "5 \t 500 \t 0.662007476020323 \t 0.6412338013534109\n",
            "10 \t 5 \t 0.7075296854386673 \t 0.5569007006511744\n",
            "10 \t 10 \t 0.7047874383174451 \t 0.5693800020708902\n",
            "10 \t 100 \t 0.6947844453175607 \t 0.5803291113486598\n",
            "10 \t 500 \t 0.6881224898510165 \t 0.5833988055554683\n",
            "50 \t 5 \t 0.9946820287748506 \t 0.5297807094103462\n",
            "50 \t 10 \t 0.9760438153634047 \t 0.5342411946294915\n",
            "50 \t 100 \t 0.8404869597595974 \t 0.5367329924016166\n",
            "50 \t 500 \t 0.7344631257816279 \t 0.5606254336029509\n"
          ],
          "name": "stdout"
        }
      ]
    },
    {
      "cell_type": "code",
      "metadata": {
        "colab": {
          "base_uri": "https://localhost:8080/",
          "height": 571
        },
        "id": "bJkbHsSIPFtu",
        "outputId": "c4dd3c09-3988-4ec4-d74e-69938a638d2a"
      },
      "source": [
        "depth=5\n",
        "samples=500\n",
        "model=DecisionTreeClassifier(criterion='gini',max_depth=depth,min_samples_split=samples)\n",
        "best_model(model)"
      ],
      "execution_count": 219,
      "outputs": [
        {
          "output_type": "display_data",
          "data": {
            "image/png": "[encoded data removed]",
            "text/plain": [
              "<Figure size 432x288 with 1 Axes>"
            ]
          },
          "metadata": {
            "tags": [],
            "needs_background": "light"
          }
        },
        {
          "output_type": "stream",
          "text": [
            "====================================================================================================\n",
            "the maximum value of tpr*(1-fpr) 0.37589235325148207 for threshold 0.122\n",
            "Best threshold  0.12170291531698288\n",
            "Train confusion matrix\n",
            "[[24703 16306]\n",
            " [ 1998  3316]]\n",
            "Test confusion matrix\n",
            "[[10086  8140]\n",
            " [  766  1596]]\n",
            "\n",
            "Recall  0.6756985605419137\n",
            "\n",
            "Precision 0.1639276910435497\n",
            "\n",
            "F1 Score 0.4787828010400561\n"
          ],
          "name": "stdout"
        }
      ]
    },
    {
      "cell_type": "markdown",
      "metadata": {
        "id": "Y3NfnxDjjicR"
      },
      "source": [
        "### Random Forest"
      ]
    },
    {
      "cell_type": "markdown",
      "metadata": {
        "id": "MntVpqIBikYL"
      },
      "source": [
        "1 Random forest has many hyperparameters such as not of Estimators , depth , maximum features , min sample split , min samples leaf .\n",
        "\n",
        "2 To hypertune Random forest ..  Use defualt values for all hyperparameters except for 'n_estimators' and find the best best value of 'n_estimators'\n",
        "\n",
        "2 Fix 'n_estimators' and now hypertune 'depth'\n",
        "\n",
        "3 find estimators and depth and for other hyperparameters randomsearchCV can be done"
      ]
    },
    {
      "cell_type": "code",
      "metadata": {
        "id": "BxkrbbYHkaFK"
      },
      "source": [
        "def random_forest_estimator(X_tr,y_train) :\n",
        "\n",
        "  estimators = [10,50,100,250,450]\n",
        "  print('Estimators ','Train auc ','  Test auc')\n",
        "\n",
        "  for i in estimators:\n",
        "      model = RandomForestClassifier(bootstrap=True, class_weight=None, criterion='gini',\n",
        "              max_depth=5, max_features='auto', max_leaf_nodes=None,\n",
        "              min_impurity_decrease=0.0, min_impurity_split=None,\n",
        "              min_weight_fraction_leaf=0.0, n_estimators=i, n_jobs=-1,random_state=25,verbose=0,warm_start=False)\n",
        "  \n",
        "      model.fit(X_tr,y_train)\n",
        "      y_train_pred = batch_predict(model, X_tr)    \n",
        "      y_cv_pred = batch_predict(model, X_cr)\n",
        "    \n",
        "      print(i,'\\t',roc_auc_score(y_train,y_train_pred),roc_auc_score(y_cv, y_cv_pred))"
      ],
      "execution_count": 72,
      "outputs": []
    },
    {
      "cell_type": "code",
      "metadata": {
        "id": "bb-dxVI7kaLd"
      },
      "source": [
        "def random_forest_depth(estimator,X_tr,y_train) :\n",
        "  depths = [3,5,9,11,15,20]\n",
        "\n",
        "  print('Depth ','   Train auc ','     Test auc')\n",
        "\n",
        "  for i in depths:\n",
        "      model = RandomForestClassifier(bootstrap=True, class_weight=None, criterion='gini',\n",
        "              max_depth=i, max_features='auto', max_leaf_nodes=None,\n",
        "              min_weight_fraction_leaf=0.0, n_estimators=estimator, \n",
        "              n_jobs=-1,random_state=25,verbose=0,warm_start=False)\n",
        "    \n",
        "      model.fit(X_tr,y_train)\n",
        "      y_train_pred = batch_predict(model, X_tr)    \n",
        "      y_cv_pred = batch_predict(model, X_cr)\n",
        "\n",
        "      print(i,'\\t',roc_auc_score(y_train,y_train_pred),roc_auc_score(y_cv, y_cv_pred))"
      ],
      "execution_count": 73,
      "outputs": []
    },
    {
      "cell_type": "code",
      "metadata": {
        "id": "hUrHrOUUnFBE"
      },
      "source": [
        "def random_forest_other_hyperparameters(estimator,depth,X_tr,y_train) :\n",
        "\n",
        "  max_features = ['auto', 'sqrt']\n",
        "  min_samples_split = [2, 5, 10]\n",
        "  min_samples_leaf = [1, 2, 4]\n",
        "\n",
        "  random_grid = {\n",
        "               'max_features': max_features,\n",
        "               'min_samples_split': min_samples_split,\n",
        "               'min_samples_leaf': min_samples_leaf}\n",
        "\n",
        "  clf = RandomForestClassifier(n_estimators=estimator,max_depth=depth,\n",
        "                               bootstrap=True, class_weight=None, criterion='gini',\n",
        "                              max_features='auto', max_leaf_nodes=None,min_weight_fraction_leaf=0.0,\n",
        "                              n_jobs=-1,random_state=25,verbose=0,warm_start=False)\n",
        "\n",
        "  rf_random = RandomizedSearchCV(clf, param_distributions=random_grid,cv=3,scoring='roc_auc',random_state=25)\n",
        "\n",
        "  rf_random.fit(X_tr,y_train)\n",
        "\n",
        "  print(rf_random.best_estimator_)"
      ],
      "execution_count": 74,
      "outputs": []
    },
    {
      "cell_type": "code",
      "metadata": {
        "colab": {
          "base_uri": "https://localhost:8080/"
        },
        "id": "Ai5Gz7NKnX9m",
        "outputId": "41925e86-6da5-4bf5-9c8d-955799ca06d3"
      },
      "source": [
        "random_forest_estimator(X_tr,y_train)"
      ],
      "execution_count": null,
      "outputs": [
        {
          "output_type": "stream",
          "text": [
            "Estimators  Train auc    Test auc\n",
            "10 \t 0.6721356928240864 0.6421906178436418\n",
            "50 \t 0.6810726039896526 0.6506768912602654\n",
            "100 \t 0.68134699825799 0.6531108271389661\n",
            "250 \t 0.6816648370044402 0.6540008846697484\n",
            "450 \t 0.6823094557770454 0.6535096056110224\n"
          ],
          "name": "stdout"
        }
      ]
    },
    {
      "cell_type": "code",
      "metadata": {
        "colab": {
          "base_uri": "https://localhost:8080/"
        },
        "id": "dCQTlETynbNO",
        "outputId": "280e9247-1413-4a6d-f66b-9a0e92af19f2"
      },
      "source": [
        "estimator=50\n",
        "random_forest_depth(estimator,X_tr,y_train)"
      ],
      "execution_count": null,
      "outputs": [
        {
          "output_type": "stream",
          "text": [
            "Depth     Train auc       Test auc\n",
            "3 \t 0.6662392481054192 0.6504968650124757\n",
            "5 \t 0.6810725535128364 0.6506769325459548\n",
            "9 \t 0.7367306958046506 0.6417137887761386\n",
            "11 \t 0.7839011614192329 0.63939411104232\n",
            "15 \t 0.9180279353936766 0.6245741587586682\n",
            "20 \t 0.993401480125263 0.6276590460991051\n"
          ],
          "name": "stdout"
        }
      ]
    },
    {
      "cell_type": "code",
      "metadata": {
        "colab": {
          "base_uri": "https://localhost:8080/"
        },
        "id": "5j5QCQGfnhOs",
        "outputId": "e32ab3a4-0c3f-434e-86ac-47aad2cad8ca"
      },
      "source": [
        "estimator=50\n",
        "depth=3\n",
        "random_forest_other_hyperparameters(estimator,depth,X_tr,y_train)"
      ],
      "execution_count": null,
      "outputs": [
        {
          "output_type": "stream",
          "text": [
            "RandomForestClassifier(bootstrap=True, ccp_alpha=0.0, class_weight=None,\n",
            "                       criterion='gini', max_depth=3, max_features='auto',\n",
            "                       max_leaf_nodes=None, max_samples=None,\n",
            "                       min_impurity_decrease=0.0, min_impurity_split=None,\n",
            "                       min_samples_leaf=2, min_samples_split=2,\n",
            "                       min_weight_fraction_leaf=0.0, n_estimators=50, n_jobs=-1,\n",
            "                       oob_score=False, random_state=25, verbose=0,\n",
            "                       warm_start=False)\n"
          ],
          "name": "stdout"
        }
      ]
    },
    {
      "cell_type": "code",
      "metadata": {
        "colab": {
          "base_uri": "https://localhost:8080/",
          "height": 571
        },
        "id": "w_V5Tt4pnEqD",
        "outputId": "a646ab1a-7439-493f-8095-050038bd4e00"
      },
      "source": [
        "estimator=50\n",
        "depth=3\n",
        "max_featues='auto'\n",
        "min_samples_split=2\n",
        "min_samples_leaf=2\n",
        "\n",
        "model = RandomForestClassifier(n_estimators=estimator,max_depth=depth,max_features=max_featues, min_samples_leaf=min_samples_leaf,\n",
        "                               bootstrap=True, class_weight=None, criterion='gini',\n",
        "                              max_leaf_nodes=None,min_weight_fraction_leaf=0.0,\n",
        "                              n_jobs=-1,random_state=25,verbose=0,warm_start=False)\n",
        "\n",
        "\n",
        "\n",
        "model  = best_model(model)"
      ],
      "execution_count": 220,
      "outputs": [
        {
          "output_type": "display_data",
          "data": {
            "image/png": "[encoded data removed]",
            "text/plain": [
              "<Figure size 432x288 with 1 Axes>"
            ]
          },
          "metadata": {
            "tags": [],
            "needs_background": "light"
          }
        },
        {
          "output_type": "stream",
          "text": [
            "====================================================================================================\n",
            "the maximum value of tpr*(1-fpr) 0.37686265991548734 for threshold 0.113\n",
            "Best threshold  0.11333893298358927\n",
            "Train confusion matrix\n",
            "[[26501 14508]\n",
            " [ 2215  3099]]\n",
            "Test confusion matrix\n",
            "[[8655 9571]\n",
            " [ 650 1712]]\n",
            "\n",
            "Recall  0.724809483488569\n",
            "\n",
            "Precision 0.15173269520517593\n",
            "\n",
            "F1 Score 0.43984009284766556\n"
          ],
          "name": "stdout"
        }
      ]
    },
    {
      "cell_type": "markdown",
      "metadata": {
        "id": "g1lG9K5noAea"
      },
      "source": [
        "### XGBoost"
      ]
    },
    {
      "cell_type": "markdown",
      "metadata": {
        "id": "ZtsMTGwJm2I0"
      },
      "source": [
        "1 Find the best learning rate \n",
        "\n",
        "2 Fix learning rate and then find the best n_estimators\n",
        "\n",
        "3 Fix learning rate , n_estimators and find the best depth"
      ]
    },
    {
      "cell_type": "code",
      "metadata": {
        "id": "VmJP4D_goDsv"
      },
      "source": [
        "from xgboost.sklearn import XGBClassifier"
      ],
      "execution_count": 167,
      "outputs": []
    },
    {
      "cell_type": "code",
      "metadata": {
        "id": "Ldvsgw9fvJf-"
      },
      "source": [
        "def XGBoost_learning_rate(X_tr,y_train) :\n",
        "\n",
        "  print('LearningRate , Train ACU ','CV auc')\n",
        "\n",
        "  learning_rate  = [0.0001, .001,.01,0.1, 0.15, 0.20, 0.25, 0.30 ]\n",
        "\n",
        "  for i in learning_rate :\n",
        "    model = XGBClassifier(learning_rate=i)\n",
        "    model.fit(X_tr,y_train)\n",
        "    y_train_pred = batch_predict(model, X_tr)    \n",
        "    y_cv_pred = batch_predict(model, X_cr)\n",
        "\n",
        "    print(i,'\\t',roc_auc_score(y_train,y_train_pred),roc_auc_score(y_cv, y_cv_pred))\n"
      ],
      "execution_count": 174,
      "outputs": []
    },
    {
      "cell_type": "code",
      "metadata": {
        "id": "VNPwXarpvJoP"
      },
      "source": [
        "def XGBoost_estimators(learning_rate,X_tr,y_train) :\n",
        "\n",
        "  print('Estimators , Train ACU ','CV auc')\n",
        "\n",
        "  estimators = [2,5,10,50,100,250,450]\n",
        "\n",
        "  for i in estimators :\n",
        "    model = XGBClassifier(learning_rate=learning_rate,n_estimators=i)\n",
        "    model.fit(X_tr,y_train)\n",
        "    y_train_pred = batch_predict(model, X_tr)    \n",
        "    y_cv_pred = batch_predict(model, X_cr)\n",
        "\n",
        "    print(i,'\\t',roc_auc_score(y_train,y_train_pred),roc_auc_score(y_cv, y_cv_pred))"
      ],
      "execution_count": 177,
      "outputs": []
    },
    {
      "cell_type": "code",
      "metadata": {
        "id": "HaVjoZcdvJmA"
      },
      "source": [
        "def XGBoost_depth(learning_rate,estimator,X_tr,y_train) :\n",
        "\n",
        "  print('Depth  Train ACU ','CV auc')\n",
        "\n",
        "  depths = [1,2,3,4,5,6,7]\n",
        "\n",
        "  for i in depths :\n",
        "\n",
        "    model = XGBClassifier(learning_rate=.05,n_estimators=estimator,max_depth=i)\n",
        "    model.fit(X_tr,y_train)\n",
        "    y_train_pred = batch_predict(model, X_tr)    \n",
        "    y_cv_pred = batch_predict(model, X_cr)\n",
        "\n",
        "    print(i,'\\t',roc_auc_score(y_train,y_train_pred),roc_auc_score(y_cv, y_cv_pred))"
      ],
      "execution_count": 170,
      "outputs": []
    },
    {
      "cell_type": "code",
      "metadata": {
        "colab": {
          "base_uri": "https://localhost:8080/"
        },
        "id": "GdQ_NdDgUnSK",
        "outputId": "9e54a461-7c9a-4119-8b87-192f2c1080de"
      },
      "source": [
        "XGBoost_learning_rate(X_tr,y_train)"
      ],
      "execution_count": null,
      "outputs": [
        {
          "output_type": "stream",
          "text": [
            "LearningRate , Train ACU  CV auc\n",
            "0.05 \t 0.6805821689471343 0.6585508979059402\n",
            "0.1 \t 0.6902501404333865 0.6591041467841668\n",
            "0.15 \t 0.6992798371650942 0.6583330333239918\n",
            "0.2 \t 0.7075256564709584 0.6520887586169426\n",
            "0.25 \t 0.7124193677598865 0.6458488808357941\n",
            "0.3 \t 0.7183439510092945 0.6413545826371878\n"
          ],
          "name": "stdout"
        }
      ]
    },
    {
      "cell_type": "code",
      "metadata": {
        "colab": {
          "base_uri": "https://localhost:8080/"
        },
        "id": "H7mc18clWqld",
        "outputId": "b10b18ee-d645-4124-eddd-17a577208048"
      },
      "source": [
        "learning_rate=.05\n",
        "XGBoost_estimators(learning_rate,X_tr,y_train)"
      ],
      "execution_count": null,
      "outputs": [
        {
          "output_type": "stream",
          "text": [
            "Estimators , Train ACU  CV auc\n",
            "10 \t 0.652043086312979 0.6435895421367523\n",
            "50 \t 0.6695037742571045 0.653928944356304\n",
            "100 \t 0.6805821689471343 0.6585508979059402\n",
            "250 \t 0.6943256477669199 0.6600872003298892\n",
            "450 \t 0.7075768147243773 0.6510176426961405\n"
          ],
          "name": "stdout"
        }
      ]
    },
    {
      "cell_type": "code",
      "metadata": {
        "colab": {
          "base_uri": "https://localhost:8080/"
        },
        "id": "xZMpRnNgWsGS",
        "outputId": "3a586187-936a-4b50-e027-179a792af567"
      },
      "source": [
        "learning_rate=.05\n",
        "estimator=10\n",
        "XGBoost_depth(learning_rate,estimator,X_tr,y_train)"
      ],
      "execution_count": null,
      "outputs": [
        {
          "output_type": "stream",
          "text": [
            "Depth  Train ACU  CV auc\n",
            "1 \t 0.6097367250401068 0.6031095225111872\n",
            "2 \t 0.6511111603846418 0.6368684590050446\n",
            "3 \t 0.652043086312979 0.6435895421367523\n",
            "4 \t 0.6697865797985743 0.6507989730432524\n",
            "5 \t 0.6765713751866231 0.6548873916312589\n",
            "6 \t 0.6839482108597971 0.6474172003117233\n",
            "7 \t 0.6923802758517635 0.6225936842473793\n"
          ],
          "name": "stdout"
        }
      ]
    },
    {
      "cell_type": "code",
      "metadata": {
        "colab": {
          "base_uri": "https://localhost:8080/",
          "height": 571
        },
        "id": "WigoCjbpxGER",
        "outputId": "6d534f4b-61ff-4dce-ce6e-e3f3abdd132c"
      },
      "source": [
        "depth=3\n",
        "learning_rate=.05\n",
        "estimator=10\n",
        "model = XGBClassifier(learning_rate=learning_rate,n_estimators=estimator,max_depth=depth)\n",
        "best_model(model)"
      ],
      "execution_count": 221,
      "outputs": [
        {
          "output_type": "display_data",
          "data": {
            "image/png": "[encoded data removed]",
            "text/plain": [
              "<Figure size 432x288 with 1 Axes>"
            ]
          },
          "metadata": {
            "tags": [],
            "needs_background": "light"
          }
        },
        {
          "output_type": "stream",
          "text": [
            "====================================================================================================\n",
            "the maximum value of tpr*(1-fpr) 0.3623135848724028 for threshold 0.349\n",
            "Best threshold  0.34898865\n",
            "Train confusion matrix\n",
            "[[24094 16915]\n",
            " [ 2037  3277]]\n",
            "Test confusion matrix\n",
            "[[8662 9564]\n",
            " [ 604 1758]]\n",
            "\n",
            "Recall  0.7442845046570703\n",
            "\n",
            "Precision 0.15527291997880233\n",
            "\n",
            "F1 Score 0.44354468316961004\n"
          ],
          "name": "stdout"
        }
      ]
    },
    {
      "cell_type": "markdown",
      "metadata": {
        "id": "qD3imMcL_WWf"
      },
      "source": [
        "### Custom Model"
      ]
    },
    {
      "cell_type": "code",
      "metadata": {
        "id": "LoQ3-C7TsYSB"
      },
      "source": [
        "# Split the train data into D1 and D2\n",
        "D1_x, D2_x, D1_y, D2_y = train_test_split(X_tr, y_train, test_size=0.50, stratify=y_train)"
      ],
      "execution_count": 255,
      "outputs": []
    },
    {
      "cell_type": "code",
      "metadata": {
        "id": "tyNMxyuhCzf_"
      },
      "source": [
        "# Split the train data into D1 and D2\n",
        "D1_x, D2_x, D1_y, D2_y = train_test_split(X_tr, y_train, test_size=0.50, stratify=y_train)"
      ],
      "execution_count": 256,
      "outputs": []
    },
    {
      "cell_type": "code",
      "metadata": {
        "colab": {
          "base_uri": "https://localhost:8080/"
        },
        "id": "rtZFXTnxDUe2",
        "outputId": "e896ff69-54e3-492a-c236-a67f16d661d4"
      },
      "source": [
        "#D1 dataset\n",
        "D1_x.shape, D1_y.shape"
      ],
      "execution_count": 257,
      "outputs": [
        {
          "output_type": "execute_result",
          "data": {
            "text/plain": [
              "((23161, 130), (23161,))"
            ]
          },
          "metadata": {
            "tags": []
          },
          "execution_count": 257
        }
      ]
    },
    {
      "cell_type": "code",
      "metadata": {
        "colab": {
          "base_uri": "https://localhost:8080/"
        },
        "id": "Ezh0h2c9Lu7R",
        "outputId": "87219ba3-9bab-43d7-b8fc-99f146ab53b9"
      },
      "source": [
        "#D2 dataset\n",
        "D2_x.shape, D2_y.shape"
      ],
      "execution_count": 258,
      "outputs": [
        {
          "output_type": "execute_result",
          "data": {
            "text/plain": [
              "((23162, 130), (23162,))"
            ]
          },
          "metadata": {
            "tags": []
          },
          "execution_count": 258
        }
      ]
    },
    {
      "cell_type": "code",
      "metadata": {
        "id": "9YDcB3-XDkxx"
      },
      "source": [
        "from sklearn.utils import resample"
      ],
      "execution_count": 261,
      "outputs": []
    },
    {
      "cell_type": "code",
      "metadata": {
        "id": "XowfUtpgSaEN"
      },
      "source": [
        "from sklearn.model_selection import GridSearchCV"
      ],
      "execution_count": 266,
      "outputs": []
    },
    {
      "cell_type": "code",
      "metadata": {
        "id": "hByuqesoOVjp"
      },
      "source": [
        "def train_models(i,X,Y,samples) :\n",
        "\n",
        "    model_list  = []\n",
        "\n",
        "    tree_para = {'criterion':['gini','entropy'],\n",
        "                 'max_depth':[4,5,6,7,8,9,10,11,12,15,20,30,40,50,70,90,120,150],\n",
        "                 'min_samples_split':[5,10,100,500]}\n",
        "    for j in range(0,i) :\n",
        "      \n",
        "      # sample 70% of D1 data to create a new model\n",
        "\n",
        "      new_X , new_Y = resample(X,Y,replace=True,n_samples=samples,stratify=Y)\n",
        "      dt = GridSearchCV(DecisionTreeClassifier(), tree_para, cv=2)\n",
        "      dt.fit(new_X,new_Y)\n",
        "      model_list.append(dt)\n",
        "\n",
        "    return model_list"
      ],
      "execution_count": 265,
      "outputs": []
    },
    {
      "cell_type": "code",
      "metadata": {
        "id": "Umi7pJb9OsLs"
      },
      "source": [
        "def predict_using_new_models(model_list,X) :\n",
        "   \n",
        "  predicted_data = []\n",
        "\n",
        "  for models in model_list :\n",
        "    pred = batch_predict(models,X)\n",
        "    predicted_data.append(pred)\n",
        "\n",
        "  new_X = np.array(predicted_data)\n",
        "  new_X = new_X.T\n",
        "\n",
        "  return new_X"
      ],
      "execution_count": 267,
      "outputs": []
    },
    {
      "cell_type": "code",
      "metadata": {
        "id": "eRMYwBCWDeGT"
      },
      "source": [
        "def best_Custom_model(X_tr,y_train,best_val,C) :\n",
        "\n",
        "  new_X_tr = predict_using_new_models(all_models[best_val],X_tr)     # Predict using D2\n",
        "  new_X_te = predict_using_new_models(all_models[best_val],X_te)     # Predict using D2\n",
        "\n",
        "  model = LogisticRegression(C=C,penalty='l1', solver='liblinear')\n",
        "  model.fit(new_X_tr, y_train)\n",
        "\n",
        "  y_train_pred = batch_predict(model, new_X_tr)    \n",
        "  y_test_pred = batch_predict(model, new_X_te)\n",
        "\n",
        "  train_fpr, train_tpr, tr_thresholds = roc_curve(y_train, y_train_pred)\n",
        "  test_fpr, test_tpr, te_thresholds = roc_curve(y_test, y_test_pred)\n",
        "\n",
        "  plt.plot(train_fpr, train_tpr, label=\"train AUC =\"+str(auc(train_fpr, train_tpr)))\n",
        "  plt.plot(test_fpr, test_tpr, label=\"test AUC =\"+str(auc(test_fpr, test_tpr)))\n",
        "  plt.legend()\n",
        "  plt.xlabel(\"FPR\")\n",
        "  plt.ylabel(\"TPR\")\n",
        "  plt.title(\"AUC PLOT\")\n",
        "  plt.grid()\n",
        "  plt.show()\n",
        "\n",
        "\n",
        "  print(\"=\"*100)\n",
        "  best_t = find_best_threshold(tr_thresholds, train_fpr, train_tpr)\n",
        "  print(\"Train confusion matrix\")\n",
        "  print(confusion_matrix(y_train, predict_with_best_t(y_train_pred, best_t)))\n",
        "  print(\"Test confusion matrix\")\n",
        "  print(confusion_matrix(y_test, predict_with_best_t(y_test_pred, best_t)))\n",
        "\n",
        "  tn ,fp,fn,tp = confusion_matrix(y_test, predict_with_best_t(y_test_pred, best_t)).ravel()\n",
        "\n",
        "  recall = tp / (tp+fn)\n",
        "  precision = tp/(tp+fp)\n",
        "\n",
        "  print('\\nRecall ',recall)\n",
        "  print('\\nPrecision',precision)\n",
        "  print('\\nF1 Score',f1_score(y_test, predict_with_best_t(y_test_pred, best_t),average='macro'))"
      ],
      "execution_count": 268,
      "outputs": []
    },
    {
      "cell_type": "code",
      "metadata": {
        "id": "d0cC4EWls2eT"
      },
      "source": [
        "def custom_model():\n",
        "\n",
        "  all_models = {}\n",
        "\n",
        "  samples  = 16213\n",
        "\n",
        "  for i in  [3,4,5,6,7,9,11,13] :\n",
        "\n",
        "    print('Decision Trees',i)\n",
        "\n",
        "    model_list = train_models(i,D1_x,D1_y,samples)                 # Fit 'i' models using D1\n",
        "    new_X = predict_using_new_models(model_list,D2_x)              # Predict using D2\n",
        "\n",
        "\n",
        "    C = [0.01, 0.1, 1, 10]           \n",
        "    all_models[i]=model_list                                       #save the models to predict test data\n",
        "\n",
        "    print('C   Train AUC \\t    Val AUC')\n",
        "\n",
        "    for c in C :                                                   #Hypertune the meta classifier (Logistic regression)\n",
        "\n",
        "      model = LogisticRegression(C=c,penalty='l1', solver='liblinear')\n",
        "\n",
        "      model.fit(new_X,D2_y)\n",
        "      y_train_pred = batch_predict(model,new_X)    \n",
        "\n",
        "      new_X_cv =  predict_using_new_models(model_list,X_cr)\n",
        "\n",
        "      y_cv_pred = batch_predict(model,new_X_cv)\n",
        "\n",
        "      print(c,'\\t',roc_auc_score(D2_y,y_train_pred),roc_auc_score(y_cv,y_cv_pred))\n",
        "\n",
        "  return all_models"
      ],
      "execution_count": 269,
      "outputs": []
    },
    {
      "cell_type": "code",
      "metadata": {
        "colab": {
          "base_uri": "https://localhost:8080/"
        },
        "id": "VQiHGWTYDm_K",
        "outputId": "609fba5f-8b83-425e-df23-2bf10d264f33"
      },
      "source": [
        "all_models = custom_model()"
      ],
      "execution_count": 270,
      "outputs": [
        {
          "output_type": "stream",
          "text": [
            "Decision Trees 3\n",
            "C   Train AUC \t    Val AUC\n",
            "0.01 \t 0.5 0.5\n",
            "0.1 \t 0.649677126033958 0.6519523919854899\n",
            "1 \t 0.6496794937977894 0.6520736274118482\n",
            "10 \t 0.6496836144410466 0.6520736274118482\n",
            "Decision Trees 4\n",
            "C   Train AUC \t    Val AUC\n",
            "0.01 \t 0.5 0.5\n",
            "0.1 \t 0.6556711752377424 0.6556361282478831\n",
            "1 \t 0.6554008280015055 0.655704972134637\n",
            "10 \t 0.6554363077494616 0.6556891390728258\n",
            "Decision Trees 5\n",
            "C   Train AUC \t    Val AUC\n",
            "0.01 \t 0.5 0.5\n",
            "0.1 \t 0.6551928318794987 0.6531101872107834\n",
            "1 \t 0.6551518457040275 0.6531375183370389\n",
            "10 \t 0.655147422207257 0.6530956546481824\n",
            "Decision Trees 6\n",
            "C   Train AUC \t    Val AUC\n",
            "0.01 \t 0.5 0.5\n",
            "0.1 \t 0.6557922524014218 0.648552370979331\n",
            "1 \t 0.6553273080167985 0.6489884717144311\n",
            "10 \t 0.6553263352146043 0.6489838477172399\n",
            "Decision Trees 7\n",
            "C   Train AUC \t    Val AUC\n",
            "0.01 \t 0.5 0.5\n",
            "0.1 \t 0.6560713273252703 0.656248498233055\n",
            "1 \t 0.6564557493848632 0.6567854599068893\n",
            "10 \t 0.6564942393131944 0.6568012723258557\n",
            "Decision Trees 9\n",
            "C   Train AUC \t    Val AUC\n",
            "0.01 \t 0.6094802235279185 0.5333718212290023\n",
            "0.1 \t 0.658282102908339 0.655776561519723\n",
            "1 \t 0.6587228373666538 0.6564487131828673\n",
            "10 \t 0.658714100501663 0.6553987355349395\n",
            "Decision Trees 11\n",
            "C   Train AUC \t    Val AUC\n",
            "0.01 \t 0.5 0.5\n",
            "0.1 \t 0.657084078651241 0.6438721426793785\n",
            "1 \t 0.6572419846376178 0.6446119822299787\n",
            "10 \t 0.6572848521758234 0.6442406793840902\n",
            "Decision Trees 13\n",
            "C   Train AUC \t    Val AUC\n",
            "0.01 \t 0.5 0.5\n",
            "0.1 \t 0.656590702745881 0.6541791562757467\n",
            "1 \t 0.6564595212877112 0.653863031753484\n",
            "10 \t 0.6564749943490287 0.6528222814570943\n"
          ],
          "name": "stdout"
        }
      ]
    },
    {
      "cell_type": "code",
      "metadata": {
        "colab": {
          "base_uri": "https://localhost:8080/",
          "height": 552
        },
        "id": "N6uglqmw_4Sf",
        "outputId": "60e7c5a5-b473-464d-a8af-f722e9cc587e"
      },
      "source": [
        "best_val = 6\n",
        "c =.1\n",
        "best_Custom_model(X_tr,y_train,best_val,c)"
      ],
      "execution_count": 274,
      "outputs": [
        {
          "output_type": "display_data",
          "data": {
            "image/png": "[encoded data removed]",
            "text/plain": [
              "<Figure size 432x288 with 1 Axes>"
            ]
          },
          "metadata": {
            "tags": [],
            "needs_background": "light"
          }
        },
        {
          "output_type": "stream",
          "text": [
            "====================================================================================================\n",
            "the maximum value of tpr*(1-fpr) 0.38129209691919524 for threshold 0.106\n",
            "Train confusion matrix\n",
            "[[26370 14639]\n",
            " [ 2163  3151]]\n",
            "Test confusion matrix\n",
            "[[10386  7840]\n",
            " [  817  1545]]\n",
            "\n",
            "Recall  0.6541066892464014\n",
            "\n",
            "Precision 0.16462440063931805\n",
            "\n",
            "F1 Score 0.48444013255410334\n"
          ],
          "name": "stdout"
        }
      ]
    },
    {
      "cell_type": "code",
      "metadata": {
        "colab": {
          "base_uri": "https://localhost:8080/",
          "height": 533
        },
        "id": "rwEqFC0jwEGn",
        "outputId": "c03b390a-3f16-43af-fc9d-3bf05ad846c0"
      },
      "source": [
        "best_val = 7\n",
        "c =.1\n",
        "best_Custom_model(X_tr,y_train,best_val,c)"
      ],
      "execution_count": null,
      "outputs": [
        {
          "output_type": "display_data",
          "data": {
            "image/png": "[encoded data removed]",
            "text/plain": [
              "<Figure size 432x288 with 1 Axes>"
            ]
          },
          "metadata": {
            "tags": [],
            "needs_background": "light"
          }
        },
        {
          "output_type": "stream",
          "text": [
            "====================================================================================================\n",
            "the maximum value of tpr*(1-fpr) 0.3920738072376468 for threshold 0.102\n",
            "Train confusion matrix\n",
            "[[24136 16873]\n",
            " [ 1774  3540]]\n",
            "Test confusion matrix\n",
            "[[10258  7968]\n",
            " [  858  1504]]\n",
            "\n",
            "Recall  0.6367485182049111\n",
            "\n",
            "Precision 0.15878378378378377\n",
            "\n",
            "F1 Score 0.47669268564355255\n"
          ],
          "name": "stdout"
        }
      ]
    },
    {
      "cell_type": "code",
      "metadata": {
        "id": "w_t7gU4eso4G"
      },
      "source": [
        ""
      ],
      "execution_count": null,
      "outputs": []
    },
    {
      "cell_type": "code",
      "metadata": {
        "id": "qWdhq7Qxso6w"
      },
      "source": [
        ""
      ],
      "execution_count": null,
      "outputs": []
    },
    {
      "cell_type": "markdown",
      "metadata": {
        "id": "Mbxcih186K3F"
      },
      "source": [
        "# Data Modelling - 2"
      ]
    },
    {
      "cell_type": "markdown",
      "metadata": {
        "id": "497gII266WPF"
      },
      "source": [
        "### stacking features"
      ]
    },
    {
      "cell_type": "code",
      "metadata": {
        "id": "wQKfvM_r6L6O"
      },
      "source": [
        "X_tr = hstack((X_train_race ,X_train_gender ,X_train_age,           \n",
        "               X_train_admission_type,X_train_discharge_type,X_train_admission_source,\n",
        "                X_train_time,X_train_num_lab_procedures,X_train_num_procedures,X_train_num_medications,\n",
        "               X_train_number_outpatient,X_train_emergency,X_train_number_inpatient,X_train_diag_1,X_train_num_diag,\n",
        "               X_train_max_glu_serum,X_train_a1c,\n",
        "               X_train_insulin ,X_train_change,X_train_diabetesMed,\n",
        "               X_train_service,X_train_procedure,X_train_drugs_prescribed)).tocsr()"
      ],
      "execution_count": null,
      "outputs": []
    },
    {
      "cell_type": "code",
      "metadata": {
        "id": "xWIpis8P6OlC"
      },
      "source": [
        "X_cr = hstack((X_cv_race ,X_cv_gender ,X_cv_age,        \n",
        "               X_cv_admission_type,X_cv_discharge_type,X_cv_admission_source,\n",
        "                X_cv_time,X_cv_num_lab_procedures,X_cv_num_procedures,X_cv_num_medications,\n",
        "               X_cv_number_outpatient,X_cv_emergency,X_cv_number_inpatient,X_cv_diag_1,X_cv_num_diag,\n",
        "               X_cv_max_glu_serum,X_cv_a1c,\n",
        "               X_cv_insulin , X_cv_change,X_cv_diabetesMed,\n",
        "               X_cv_service,X_cv_procedure,X_cv_drugs_prescribed)).tocsr()"
      ],
      "execution_count": null,
      "outputs": []
    },
    {
      "cell_type": "code",
      "metadata": {
        "id": "GWAAPa2o6On0"
      },
      "source": [
        "X_te = hstack((X_test_race ,X_test_gender ,X_test_age,\n",
        "               X_test_admission_type,X_test_discharge_type,X_test_admission_source,\n",
        "                X_test_time,X_test_num_lab_procedures,X_test_num_procedures,X_test_num_medications,\n",
        "               X_test_number_outpatient,X_test_emergency,X_test_number_inpatient,X_test_diag_1,X_test_num_diag,\n",
        "               X_test_max_glu_serum,X_test_a1c, \n",
        "               X_test_insulin , X_test_change,X_test_diabetesMed,\n",
        "               X_test_service,X_test_procedure,X_test_drugs_prescribed)).tocsr()"
      ],
      "execution_count": null,
      "outputs": []
    },
    {
      "cell_type": "markdown",
      "metadata": {
        "id": "W631t4H86YdA"
      },
      "source": [
        "### CUSTOM model"
      ]
    },
    {
      "cell_type": "code",
      "metadata": {
        "id": "CrR8T2iO6itz"
      },
      "source": [
        "D1_x, D2_x, D1_y, D2_y = train_test_split(X_tr, y_train, test_size=0.50, stratify=y_train)"
      ],
      "execution_count": null,
      "outputs": []
    },
    {
      "cell_type": "code",
      "metadata": {
        "colab": {
          "base_uri": "https://localhost:8080/"
        },
        "id": "mAPCiAlgso9R",
        "outputId": "e0016e12-1029-4673-952f-6236355f25a0"
      },
      "source": [
        "all_models = custom_model()"
      ],
      "execution_count": 249,
      "outputs": [
        {
          "output_type": "stream",
          "text": [
            "Decision Trees 3\n",
            "C   Train AUC \t    Val AUC\n",
            "0.01 \t 0.5 0.5\n",
            "0.1 \t 0.6373550352654562 0.6504984132258209\n",
            "1 \t 0.6373419850322453 0.6504972985122124\n",
            "10 \t 0.6373419666774869 0.6504972572265231\n",
            "Decision Trees 4\n",
            "C   Train AUC \t    Val AUC\n",
            "0.01 \t 0.5 0.5\n",
            "0.1 \t 0.6420751908183625 0.6467095016701713\n",
            "1 \t 0.6420628931302451 0.6465414276294071\n",
            "10 \t 0.6420918385842167 0.6465470837688285\n",
            "Decision Trees 5\n",
            "C   Train AUC \t    Val AUC\n",
            "0.01 \t 0.5 0.5\n",
            "0.1 \t 0.6405505069263057 0.6184038473638345\n",
            "1 \t 0.640640683854246 0.6162874190779849\n",
            "10 \t 0.6406318552154633 0.6162829189378612\n",
            "Decision Trees 6\n",
            "C   Train AUC \t    Val AUC\n",
            "0.01 \t 0.5 0.5\n",
            "0.1 \t 0.6430055751660854 0.6390181222707063\n",
            "1 \t 0.6428876366660894 0.640194723127434\n",
            "10 \t 0.6428702088230038 0.6402479403808224\n",
            "Decision Trees 7\n",
            "C   Train AUC \t    Val AUC\n",
            "0.01 \t 0.5 0.5\n",
            "0.1 \t 0.6411572693515825 0.6335843269284918\n",
            "1 \t 0.6413304464969347 0.6336728434461527\n",
            "10 \t 0.6415369375287538 0.633773126385238\n",
            "Decision Trees 9\n",
            "C   Train AUC \t    Val AUC\n",
            "0.01 \t 0.5 0.5\n",
            "0.1 \t 0.6430474974342343 0.6344155936378423\n",
            "1 \t 0.6436425862331786 0.6359795161878711\n",
            "10 \t 0.6437564591541926 0.6353151468771422\n",
            "Decision Trees 11\n",
            "C   Train AUC \t    Val AUC\n",
            "0.01 \t 0.5 0.5\n",
            "0.1 \t 0.6405132008798904 0.6533286504352255\n",
            "1 \t 0.6402124306316321 0.6542055378311503\n",
            "10 \t 0.639853429912401 0.6529882086420197\n",
            "Decision Trees 13\n",
            "C   Train AUC \t    Val AUC\n",
            "0.01 \t 0.5 0.5\n",
            "0.1 \t 0.6423239803908773 0.6373904752593855\n",
            "1 \t 0.6429671311246502 0.6324996280159402\n",
            "10 \t 0.6430142936763177 0.6317727728145957\n"
          ],
          "name": "stdout"
        }
      ]
    },
    {
      "cell_type": "code",
      "metadata": {
        "colab": {
          "base_uri": "https://localhost:8080/",
          "height": 552
        },
        "id": "EkCDwkQvzuhW",
        "outputId": "ea43729d-063c-4ed3-ce3a-33de053a2e5b"
      },
      "source": [
        "best_val = 11\n",
        "c = .1\n",
        "best_Custom_model(X_tr,y_train,best_val,c)"
      ],
      "execution_count": 251,
      "outputs": [
        {
          "output_type": "display_data",
          "data": {
            "image/png": "[encoded data removed]",
            "text/plain": [
              "<Figure size 432x288 with 1 Axes>"
            ]
          },
          "metadata": {
            "tags": [],
            "needs_background": "light"
          }
        },
        {
          "output_type": "stream",
          "text": [
            "====================================================================================================\n",
            "the maximum value of tpr*(1-fpr) 0.37730377681398464 for threshold 0.102\n",
            "Train confusion matrix\n",
            "[[25759 15250]\n",
            " [ 2122  3192]]\n",
            "Test confusion matrix\n",
            "[[9603 8623]\n",
            " [ 711 1651]]\n",
            "\n",
            "Recall  0.6989839119390348\n",
            "\n",
            "Precision 0.16069690480825385\n",
            "\n",
            "F1 Score 0.4671335588488902\n"
          ],
          "name": "stdout"
        }
      ]
    },
    {
      "cell_type": "markdown",
      "metadata": {
        "id": "jD09j--2nEoP"
      },
      "source": [
        "### SGD"
      ]
    },
    {
      "cell_type": "code",
      "metadata": {
        "colab": {
          "base_uri": "https://localhost:8080/"
        },
        "id": "7hV_C-W_3L5k",
        "outputId": "55e1fa8a-75a1-47b9-cd59-c867b2e6d48b"
      },
      "source": [
        "SGD(X_tr,y_train)"
      ],
      "execution_count": 131,
      "outputs": [
        {
          "output_type": "stream",
          "text": [
            "alpha   Train AUC \t    Val AUC\n",
            "1e-05 \t 0.6243408794674838 0.6314922778421193\n",
            "0.0001 \t 0.6375858676037343 0.652620291222646\n",
            "0.001 \t 0.6000550605702064 0.6049016723511556\n",
            "0.1 \t 0.5 0.5\n",
            "1 \t 0.5 0.5\n",
            "10 \t 0.5 0.5\n"
          ],
          "name": "stdout"
        }
      ]
    },
    {
      "cell_type": "code",
      "metadata": {
        "colab": {
          "base_uri": "https://localhost:8080/",
          "height": 589
        },
        "id": "O7-4T5p5n6ww",
        "outputId": "71d17fbf-e0f3-44db-bf4b-9fd4d306ae1f"
      },
      "source": [
        "alpha=.00001\n",
        "sgd_best_model(alpha,X_tr,y_train)"
      ],
      "execution_count": 227,
      "outputs": [
        {
          "output_type": "display_data",
          "data": {
            "image/png": "[encoded data removed]",
            "text/plain": [
              "<Figure size 432x288 with 1 Axes>"
            ]
          },
          "metadata": {
            "tags": [],
            "needs_background": "light"
          }
        },
        {
          "output_type": "stream",
          "text": [
            "====================================================================================================\n",
            "the maximum value of tpr*(1-fpr) 0.3763642839519893 for threshold 0.106\n",
            "METRICS \n",
            " \n",
            "Train confusion matrix\n",
            "[[26054 14955]\n",
            " [ 2166  3148]]\n",
            "Test confusion matrix\n",
            "[[10076  8150]\n",
            " [  767  1595]]\n",
            "\n",
            "Recall  0.6752751905165114\n",
            "\n",
            "Precision 0.16367367880964598\n",
            "\n",
            "F1 Score 0.47836551831858587\n"
          ],
          "name": "stdout"
        }
      ]
    },
    {
      "cell_type": "markdown",
      "metadata": {
        "id": "TWP_K-afoFnB"
      },
      "source": [
        "### Logistic Regression"
      ]
    },
    {
      "cell_type": "code",
      "metadata": {
        "colab": {
          "base_uri": "https://localhost:8080/"
        },
        "id": "zbfeTgEk3SEw",
        "outputId": "05c3a367-df64-495d-890c-d5a350280464"
      },
      "source": [
        "Logistic_regression(X_tr,y_train)"
      ],
      "execution_count": 133,
      "outputs": [
        {
          "output_type": "stream",
          "text": [
            "C.      Train AUC \t    Val AUC\n",
            "0.001 \t 0.5632256862605399 0.5804408304236556\n",
            "0.01 \t 0.5976104178752614 0.6079605703502364\n",
            "0.1 \t 0.6536668933748747 0.6646266237867994\n",
            "1 \t 0.6641608238910406 0.6687034823818275\n",
            "10 \t 0.6671955612192787 0.6671693061708728\n",
            "100 \t 0.6671054096251929 0.6664417697556564\n",
            "1000 \t 0.667092056212855 0.6662716314304319\n"
          ],
          "name": "stdout"
        }
      ]
    },
    {
      "cell_type": "code",
      "metadata": {
        "colab": {
          "base_uri": "https://localhost:8080/",
          "height": 571
        },
        "id": "k0_IzgrgCLcN",
        "outputId": "00982c4f-6d9f-4d4f-cb25-ab2328d8bc49"
      },
      "source": [
        "c = 1000\n",
        "model = LogisticRegression(C=c,penalty='l1', solver='liblinear')\n",
        "best_model(model)"
      ],
      "execution_count": 228,
      "outputs": [
        {
          "output_type": "display_data",
          "data": {
            "image/png": "[encoded data removed]",
            "text/plain": [
              "<Figure size 432x288 with 1 Axes>"
            ]
          },
          "metadata": {
            "tags": [],
            "needs_background": "light"
          }
        },
        {
          "output_type": "stream",
          "text": [
            "====================================================================================================\n",
            "the maximum value of tpr*(1-fpr) 0.3831162464653724 for threshold 0.102\n",
            "Best threshold  0.1022346150333123\n",
            "Train confusion matrix\n",
            "[[24952 16057]\n",
            " [ 1968  3346]]\n",
            "Test confusion matrix\n",
            "[[8547 9679]\n",
            " [ 601 1761]]\n",
            "\n",
            "Recall  0.7455546147332769\n",
            "\n",
            "Precision 0.15393356643356643\n",
            "\n",
            "F1 Score 0.43982078808383174\n"
          ],
          "name": "stdout"
        }
      ]
    },
    {
      "cell_type": "markdown",
      "metadata": {
        "id": "e6gP5v-OoOAw"
      },
      "source": [
        "### Decison Tree"
      ]
    },
    {
      "cell_type": "code",
      "metadata": {
        "colab": {
          "base_uri": "https://localhost:8080/"
        },
        "id": "ki_A4sEeooEh",
        "outputId": "9317f831-903f-4f5e-b101-6c701932a187"
      },
      "source": [
        "decision_tree(X_tr,y_train)"
      ],
      "execution_count": null,
      "outputs": [
        {
          "output_type": "stream",
          "text": [
            "DEPTH.  Min Samples  Train auc  Test auc\n",
            "1 \t 5 \t 0.5771801008128483 \t 0.5918735396219585\n",
            "1 \t 10 \t 0.5771801008128483 \t 0.5918735396219585\n",
            "1 \t 100 \t 0.5771801008128483 \t 0.5918735396219585\n",
            "1 \t 500 \t 0.5771801008128483 \t 0.5918735396219585\n",
            "5 \t 5 \t 0.6634016640444267 \t 0.6400118068813996\n",
            "5 \t 10 \t 0.6633772998029119 \t 0.6399390614970157\n",
            "5 \t 100 \t 0.6633199512562822 \t 0.640592159814591\n",
            "5 \t 500 \t 0.6632882242827756 \t 0.6412338013534109\n",
            "10 \t 5 \t 0.7123815973348167 \t 0.5497314820059627\n",
            "10 \t 10 \t 0.7107778800458473 \t 0.544467226346479\n",
            "10 \t 100 \t 0.700397194267269 \t 0.5776369541268102\n",
            "10 \t 500 \t 0.6900142301487507 \t 0.5821609367359567\n",
            "50 \t 5 \t 0.9945277555631348 \t 0.513811446110533\n",
            "50 \t 10 \t 0.9751391813319332 \t 0.5147413443314006\n",
            "50 \t 100 \t 0.8300263141150442 \t 0.533775161769716\n",
            "50 \t 500 \t 0.724693025929399 \t 0.5632178033139859\n"
          ],
          "name": "stdout"
        }
      ]
    },
    {
      "cell_type": "code",
      "metadata": {
        "colab": {
          "base_uri": "https://localhost:8080/",
          "height": 571
        },
        "id": "RQ_jYluCo5Lt",
        "outputId": "14481937-4857-4691-dd10-3f309ff568da"
      },
      "source": [
        "depth=5\n",
        "samples=100\n",
        "model=DecisionTreeClassifier(criterion='gini',max_depth=depth,min_samples_split=samples)\n",
        "best_model(model)"
      ],
      "execution_count": 233,
      "outputs": [
        {
          "output_type": "display_data",
          "data": {
            "image/png": "[encoded data removed]",
            "text/plain": [
              "<Figure size 432x288 with 1 Axes>"
            ]
          },
          "metadata": {
            "tags": [],
            "needs_background": "light"
          }
        },
        {
          "output_type": "stream",
          "text": [
            "====================================================================================================\n",
            "the maximum value of tpr*(1-fpr) 0.37073173202944804 for threshold 0.112\n",
            "Best threshold  0.11203791469194313\n",
            "Train confusion matrix\n",
            "[[23734 17275]\n",
            " [ 1910  3404]]\n",
            "Test confusion matrix\n",
            "[[10086  8140]\n",
            " [  766  1596]]\n",
            "\n",
            "Recall  0.6756985605419137\n",
            "\n",
            "Precision 0.1639276910435497\n",
            "\n",
            "F1 Score 0.4787828010400561\n"
          ],
          "name": "stdout"
        }
      ]
    },
    {
      "cell_type": "markdown",
      "metadata": {
        "id": "d2EVVMT9oRNx"
      },
      "source": [
        "### Random Forest"
      ]
    },
    {
      "cell_type": "code",
      "metadata": {
        "colab": {
          "base_uri": "https://localhost:8080/"
        },
        "id": "cfAWPOwVoyC9",
        "outputId": "9cebcf89-7063-46c8-dfed-60a6accd987c"
      },
      "source": [
        "random_forest_estimator(X_tr,y_train)"
      ],
      "execution_count": null,
      "outputs": [
        {
          "output_type": "stream",
          "text": [
            "Estimators  Train auc    Test auc\n",
            "10 \t 0.6728343607950495 0.6473513909231265\n",
            "50 \t 0.6770350322780427 0.6521925714824551\n",
            "100 \t 0.677774916863995 0.651009798415191\n",
            "250 \t 0.6793896243325347 0.6532117706490788\n",
            "450 \t 0.6797396626990452 0.65391143922408\n"
          ],
          "name": "stdout"
        }
      ]
    },
    {
      "cell_type": "code",
      "metadata": {
        "colab": {
          "base_uri": "https://localhost:8080/"
        },
        "id": "eXwRPvnPoyY8",
        "outputId": "9ec2252b-f639-4e53-a59b-804ab6e72a36"
      },
      "source": [
        "estimator= 50\n",
        "random_forest_depth(estimator,X_tr,y_train)"
      ],
      "execution_count": null,
      "outputs": [
        {
          "output_type": "stream",
          "text": [
            "Depth     Train auc       Test auc\n",
            "3 \t 0.6674395822105492 0.6528743427111849\n",
            "5 \t 0.6770350460444472 0.6521925921252998\n",
            "9 \t 0.7319675244461288 0.6409834036483668\n",
            "11 \t 0.7861854346796819 0.6360563901411757\n",
            "15 \t 0.926703998432906 0.6191918673137401\n",
            "20 \t 0.996339912276616 0.6117788979594465\n"
          ],
          "name": "stdout"
        }
      ]
    },
    {
      "cell_type": "code",
      "metadata": {
        "colab": {
          "base_uri": "https://localhost:8080/"
        },
        "id": "fAWY6kBsoyeg",
        "outputId": "f672ab8c-4d64-4b8d-efe2-990648862869"
      },
      "source": [
        "estimator = 50\n",
        "depth = 3\n",
        "random_forest_other_hyperparameters(estimator,depth,X_tr,y_train)"
      ],
      "execution_count": null,
      "outputs": [
        {
          "output_type": "stream",
          "text": [
            "RandomForestClassifier(bootstrap=True, ccp_alpha=0.0, class_weight=None,\n",
            "                       criterion='gini', max_depth=3, max_features='sqrt',\n",
            "                       max_leaf_nodes=None, max_samples=None,\n",
            "                       min_impurity_decrease=0.0, min_impurity_split=None,\n",
            "                       min_samples_leaf=4, min_samples_split=10,\n",
            "                       min_weight_fraction_leaf=0.0, n_estimators=50, n_jobs=-1,\n",
            "                       oob_score=False, random_state=25, verbose=0,\n",
            "                       warm_start=False)\n"
          ],
          "name": "stdout"
        }
      ]
    },
    {
      "cell_type": "code",
      "metadata": {
        "colab": {
          "base_uri": "https://localhost:8080/",
          "height": 571
        },
        "id": "wPwIiKWIpdM9",
        "outputId": "74811e10-e45b-4554-ae6a-c5a0bc9ecc6e"
      },
      "source": [
        "estimator = 50\n",
        "depth = 3\n",
        "max_featues='sqrt'\n",
        "min_samples_split=10\n",
        "min_samples_leaf=4\n",
        "\n",
        "model = RandomForestClassifier(n_estimators=estimator,max_depth=depth,max_features=max_featues, min_samples_leaf=min_samples_leaf,\n",
        "                               bootstrap=True, class_weight=None, criterion='gini',\n",
        "                              max_leaf_nodes=None,min_weight_fraction_leaf=0.0,\n",
        "                              n_jobs=-1,random_state=25,verbose=0,warm_start=False)\n",
        "\n",
        "model  = best_model(model)"
      ],
      "execution_count": 234,
      "outputs": [
        {
          "output_type": "display_data",
          "data": {
            "image/png": "[encoded data removed]",
            "text/plain": [
              "<Figure size 432x288 with 1 Axes>"
            ]
          },
          "metadata": {
            "tags": [],
            "needs_background": "light"
          }
        },
        {
          "output_type": "stream",
          "text": [
            "====================================================================================================\n",
            "the maximum value of tpr*(1-fpr) 0.37273063231399317 for threshold 0.113\n",
            "Best threshold  0.11296656468779487\n",
            "Train confusion matrix\n",
            "[[24855 16154]\n",
            " [ 2046  3268]]\n",
            "Test confusion matrix\n",
            "[[ 7719 10507]\n",
            " [  532  1830]]\n",
            "\n",
            "Recall  0.7747671464860287\n",
            "\n",
            "Precision 0.1483342789981357\n",
            "\n",
            "F1 Score 0.4160343153448479\n"
          ],
          "name": "stdout"
        }
      ]
    },
    {
      "cell_type": "markdown",
      "metadata": {
        "id": "emust4BToXpg"
      },
      "source": [
        "### XGboost"
      ]
    },
    {
      "cell_type": "code",
      "metadata": {
        "colab": {
          "base_uri": "https://localhost:8080/"
        },
        "id": "qTKD0cxqp5sj",
        "outputId": "f8609461-cd5e-4906-e0dd-1023b276b072"
      },
      "source": [
        "XGBoost_learning_rate(X_tr,y_train)"
      ],
      "execution_count": null,
      "outputs": [
        {
          "output_type": "stream",
          "text": [
            "LearningRate , Train ACU  CV auc\n",
            "0.05 \t 0.6797502398864811 0.6583534078116157\n",
            "0.1 \t 0.6894087745024677 0.6608749932085041\n",
            "0.15 \t 0.6983918834270415 0.656378713296816\n",
            "0.2 \t 0.7060921951892969 0.650758822710498\n",
            "0.25 \t 0.7113205585933371 0.6404210099899809\n",
            "0.3 \t 0.7176618738501209 0.639256609054414\n"
          ],
          "name": "stdout"
        }
      ]
    },
    {
      "cell_type": "code",
      "metadata": {
        "colab": {
          "base_uri": "https://localhost:8080/"
        },
        "id": "oAxs6MhJp7YS",
        "outputId": "74813b5f-e631-4e69-f2e1-a6474d0e0aae"
      },
      "source": [
        "learning_rate=.05\n",
        "XGBoost_estimators(learning_rate,X_tr,y_train)"
      ],
      "execution_count": null,
      "outputs": [
        {
          "output_type": "stream",
          "text": [
            "Estimators , Train ACU  CV auc\n",
            "10 \t 0.652043086312979 0.6435895421367523\n",
            "50 \t 0.6695037742571045 0.653928944356304\n",
            "100 \t 0.6797502398864811 0.6583534078116157\n",
            "250 \t 0.6931820587810236 0.6598327979129919\n",
            "450 \t 0.7068873174731933 0.6488270446696295\n"
          ],
          "name": "stdout"
        }
      ]
    },
    {
      "cell_type": "code",
      "metadata": {
        "colab": {
          "base_uri": "https://localhost:8080/"
        },
        "id": "r7261wcDqAtP",
        "outputId": "0fe58f6a-38cc-4fed-a5d3-592ccca60553"
      },
      "source": [
        "learning_rate=.05\n",
        "estimator=10\n",
        "XGBoost_depth(learning_rate,estimator,X_tr,y_train)"
      ],
      "execution_count": null,
      "outputs": [
        {
          "output_type": "stream",
          "text": [
            "Depth  Train ACU  CV auc\n",
            "1 \t 0.6097367250401068 0.6031095225111872\n",
            "2 \t 0.6511111603846418 0.6368684590050446\n",
            "3 \t 0.652043086312979 0.6435895421367523\n",
            "4 \t 0.6697865797985743 0.6507989730432524\n",
            "5 \t 0.6765595131347698 0.6549939499951035\n",
            "6 \t 0.6831603342934544 0.6425678245430871\n",
            "7 \t 0.6923885288112446 0.6147683740721247\n"
          ],
          "name": "stdout"
        }
      ]
    },
    {
      "cell_type": "code",
      "metadata": {
        "id": "6sKjnsSWRxPJ"
      },
      "source": [
        ""
      ],
      "execution_count": null,
      "outputs": []
    },
    {
      "cell_type": "code",
      "metadata": {
        "colab": {
          "base_uri": "https://localhost:8080/",
          "height": 571
        },
        "id": "wDyG83ibRxU3",
        "outputId": "42910702-da86-4eab-f982-b44322bd8081"
      },
      "source": [
        "depth=4\n",
        "learning_rate=.01\n",
        "estimator=2\n",
        "model = XGBClassifier(learning_rate=learning_rate,n_estimators=estimator,max_depth=depth)\n",
        "best_model(model)"
      ],
      "execution_count": 236,
      "outputs": [
        {
          "output_type": "display_data",
          "data": {
            "image/png": "[encoded data removed]",
            "text/plain": [
              "<Figure size 432x288 with 1 Axes>"
            ]
          },
          "metadata": {
            "tags": [],
            "needs_background": "light"
          }
        },
        {
          "output_type": "stream",
          "text": [
            "====================================================================================================\n",
            "the maximum value of tpr*(1-fpr) 0.3623135848724028 for threshold 0.492\n",
            "Best threshold  0.4924625\n",
            "Train confusion matrix\n",
            "[[24094 16915]\n",
            " [ 2037  3277]]\n",
            "Test confusion matrix\n",
            "[[8662 9564]\n",
            " [ 604 1758]]\n",
            "\n",
            "Recall  0.7442845046570703\n",
            "\n",
            "Precision 0.15527291997880233\n",
            "\n",
            "F1 Score 0.44354468316961004\n"
          ],
          "name": "stdout"
        }
      ]
    },
    {
      "cell_type": "markdown",
      "metadata": {
        "id": "xc5PfLkxQKIb"
      },
      "source": [
        "# Summary"
      ]
    },
    {
      "cell_type": "markdown",
      "metadata": {
        "id": "T6PPrUdNBnA3"
      },
      "source": [
        "## Data Model 1"
      ]
    },
    {
      "cell_type": "code",
      "metadata": {
        "colab": {
          "base_uri": "https://localhost:8080/",
          "height": 190
        },
        "id": "bws7FrV3BhhD",
        "outputId": "18b0f8e1-3eb3-4bcc-825a-b66ef9028744"
      },
      "source": [
        "from IPython.display import HTML, display\n",
        "import tabulate\n",
        "table = [[\"Model\",\"AUC\",\" Recall\",'Precision','F1 Score'],\n",
        "         [\"Multi NB\",.601,0.543,0.149,0.478],\n",
        "         [\"SGD\",.62,0.609,0.155,.4763],\n",
        "         [\"Logistic Regression\",.652,0.738,.15,.432],\n",
        "         [\"Decision Tree\",.63,.616,0.163,0.450],\n",
        "         [\"Random Forest\",.644,0.616,0.163,.489],\n",
        "         [\"XGBoost\",.635,0.612,0.161,.487],\n",
        "         [\"Custom Model\",.639,.636,0.158,.476] \n",
        "         ]\n",
        "display(HTML(tabulate.tabulate(table, tablefmt='html')))"
      ],
      "execution_count": null,
      "outputs": [
        {
          "output_type": "display_data",
          "data": {
            "text/html": [
              "<table>\n",
              "<tbody>\n",
              "<tr><td>Model              </td><td>AUC  </td><td>Recall</td><td>Precision</td><td>F1 Score</td></tr>\n",
              "<tr><td>Multi NB           </td><td>0.601</td><td>0.543 </td><td>0.149    </td><td>0.478   </td></tr>\n",
              "<tr><td>SGD                </td><td>0.62 </td><td>0.609 </td><td>0.155    </td><td>0.4763  </td></tr>\n",
              "<tr><td>Logistic Regression</td><td>0.652</td><td>0.738 </td><td>0.15     </td><td>0.432   </td></tr>\n",
              "<tr><td>Decision Tree      </td><td>0.63 </td><td>0.616 </td><td>0.163    </td><td>0.45    </td></tr>\n",
              "<tr><td>Random Forest      </td><td>0.644</td><td>0.616 </td><td>0.163    </td><td>0.489   </td></tr>\n",
              "<tr><td>XGBoost            </td><td>0.635</td><td>0.612 </td><td>0.161    </td><td>0.487   </td></tr>\n",
              "<tr><td>Custom Model       </td><td>0.639</td><td>0.636 </td><td>0.158    </td><td>0.476   </td></tr>\n",
              "</tbody>\n",
              "</table>"
            ],
            "text/plain": [
              "<IPython.core.display.HTML object>"
            ]
          },
          "metadata": {
            "tags": []
          }
        }
      ]
    },
    {
      "cell_type": "markdown",
      "metadata": {
        "id": "znScue2hB-s1"
      },
      "source": [
        "##Data  Model 2"
      ]
    },
    {
      "cell_type": "code",
      "metadata": {
        "colab": {
          "base_uri": "https://localhost:8080/",
          "height": 190
        },
        "id": "d_kVr6tiBsAG",
        "outputId": "1b5ab70d-e06d-458d-8eba-07e5c3ebc4b6"
      },
      "source": [
        "from IPython.display import HTML, display\n",
        "import tabulate\n",
        "table = [[\"Model\",\"AUC\",\"Recall\",'Precision','F1 Score'],\n",
        "        [\"Multi NB\",.594,0.569,0.145,0.464],\n",
        "         [\"SGD\",.621,0.533,.163,.504],\n",
        "\n",
        "         [\"Logistic Regression\",.653,0.642,.162,.480],\n",
        "\n",
        "         [\"Decision Tree\",.635,.685,0.154,0.457],\n",
        "         [\"Random Forest\",0.645,0.638,.163,.484],\n",
        "         [\"XGBoost\",.635,.612,.161,.487],\n",
        "         [\"Custom Model\",.636,.649,.156,.469] \n",
        "         ]\n",
        "display(HTML(tabulate.tabulate(table, tablefmt='html')))"
      ],
      "execution_count": null,
      "outputs": [
        {
          "output_type": "display_data",
          "data": {
            "text/html": [
              "<table>\n",
              "<tbody>\n",
              "<tr><td>Model              </td><td>AUC  </td><td>Recall</td><td>Precision</td><td>F1 Score</td></tr>\n",
              "<tr><td>Multi NB           </td><td>0.594</td><td>0.569 </td><td>0.145    </td><td>0.464   </td></tr>\n",
              "<tr><td>SGD                </td><td>0.621</td><td>0.533 </td><td>0.163    </td><td>0.504   </td></tr>\n",
              "<tr><td>Logistic Regression</td><td>0.653</td><td>0.642 </td><td>0.162    </td><td>0.48    </td></tr>\n",
              "<tr><td>Decision Tree      </td><td>0.635</td><td>0.685 </td><td>0.154    </td><td>0.457   </td></tr>\n",
              "<tr><td>Random Forest      </td><td>0.645</td><td>0.638 </td><td>0.163    </td><td>0.484   </td></tr>\n",
              "<tr><td>XGBoost            </td><td>0.635</td><td>0.612 </td><td>0.161    </td><td>0.487   </td></tr>\n",
              "<tr><td>Custom Model       </td><td>0.636</td><td>0.649 </td><td>0.156    </td><td>0.469   </td></tr>\n",
              "</tbody>\n",
              "</table>"
            ],
            "text/plain": [
              "<IPython.core.display.HTML object>"
            ]
          },
          "metadata": {
            "tags": []
          }
        }
      ]
    },
    {
      "cell_type": "code",
      "metadata": {
        "id": "GCjVW34YLVJn"
      },
      "source": [
        "#SUMMARY \n",
        "\n",
        "#Best model : Logistic regression of Data modelling : 2"
      ],
      "execution_count": null,
      "outputs": []
    },
    {
      "cell_type": "markdown",
      "metadata": {
        "id": "pTbWaUoimPpb"
      },
      "source": [
        "# Training the best Model"
      ]
    },
    {
      "cell_type": "code",
      "metadata": {
        "id": "pKOUsHSGmc6h"
      },
      "source": [
        "def Train_BEST_MODEL(X) :\n",
        "\n",
        "  #Preprocessing \n",
        "  X = preprocess(X)\n",
        "  X = preprocess_diag(X) \n",
        "\n",
        "  #Feature Engineering \n",
        "  X = total_drugs_prescribed(X)\n",
        "  X = total_procedures(X)\n",
        "  X = service_utilization(X)\n",
        "\n",
        "  #DATA modelling \n",
        "\n",
        "  race   = race_vectorizer.transform(X['race'].values)\n",
        "  gender = gender_vectorizer.transform(X['gender'].values)\n",
        "\n",
        "  X['age']=X['age'].map(d)\n",
        "  age = (X['age'].values.reshape(-1,1))\n",
        "  \n",
        "  #DATA modelling - REal values\n",
        "  admission_type = pd.DataFrame(admission_type_id_enc.transform(X[['admission_type_id']]).toarray())\n",
        "  discharge_type = pd.DataFrame(discharge_disposition_id_enc.transform(X[['discharge_disposition_id']]).toarray())\n",
        "  admission_source = pd.DataFrame(admission_source_id_enc.transform(X[['admission_source_id']]).toarray())\n",
        " \n",
        "  time = time_in_hospital_normalizer.transform(X['time_in_hospital'].values.reshape(1,-1)).reshape(-1,1)\n",
        "  num_lab_procedures = num_lab_procedures_normalizer.transform(X['num_lab_procedures'].values.reshape(1,-1)).reshape(-1,1)\n",
        "  num_procedures = num_procedures_normalizer.transform(X['num_procedures'].values.reshape(1,-1)).reshape(-1,1)\n",
        "  num_medications = num_medications_normalizer.transform(X['num_medications'].values.reshape(1,-1)).reshape(-1,1)\n",
        "  number_outpatient = number_outpatient_normalizer.transform(X['number_outpatient'].values.reshape(1,-1)).reshape(-1,1)\n",
        "  emergency = number_emergency_normalizer.transform(X['number_emergency'].values.reshape(1,-1)).reshape(-1,1)\n",
        "  number_inpatient = number_inpatient_normalizer.transform(X['number_inpatient'].values.reshape(1,-1)).reshape(-1,1)\n",
        "  diag_1 = pd.DataFrame(diag_1_enc.transform(X[['diag_1']]).toarray())\n",
        "  num_diag = number_diagnoses_normalizer.transform(X['number_diagnoses'].values.reshape(1,-1)).reshape(-1,1)\n",
        "  \n",
        "  #Data modelling - Test results\n",
        "  max_glu_serum = pd.DataFrame(max_glu_serum_enc.transform(X[['max_glu_serum']]).toarray())\n",
        "  a1c = pd.DataFrame(A1Cresult_enc.transform(X[['A1Cresult']]).toarray())\n",
        "  \n",
        "  #Data modelling - Drugs prescribed\n",
        " \n",
        "  insulin = insulin_vectorizer.transform(X['insulin'].values)\n",
        "  change = change_vectorizer.transform(X['change'].values)\n",
        "  diabetesMed = pd.DataFrame(diabetesMed_enc.fit_transform(X[['diabetesMed']]).toarray())\n",
        " \n",
        "  #Data modelling of new features\n",
        "  service= service_utilization_normalizer.transform(X['service_utilization'].values.reshape(1,-1)).reshape(-1,1)\n",
        "  procedure= total_procesure_normalizer.transform(X['total_procesure'].values.reshape(1,-1)).reshape(-1,1)\n",
        "  drugs_prescribed= total_drugs_prescribed_normalizer.transform(X['total_drugs_prescribed'].values.reshape(1,-1)).reshape(-1,1)\n",
        "\n",
        "\n",
        "  #Stacking\n",
        "\n",
        "\n",
        "  X_te = hstack((race ,gender ,age,           \n",
        "               admission_type,discharge_type,admission_source,\n",
        "               time,num_lab_procedures,num_procedures,num_medications,\n",
        "               number_outpatient,emergency,number_inpatient,diag_1,num_diag,\n",
        "               max_glu_serum,a1c, insulin ,change,diabetesMed,\n",
        "               service,procedure,drugs_prescribed)).tocsr()\n",
        "\n",
        "  \n",
        "  model = LogisticRegression(C=1,penalty='l1', solver='liblinear')\n",
        "  model.fit(X_tr, y_train)\n",
        "\n",
        "  return model\n"
      ],
      "execution_count": null,
      "outputs": []
    },
    {
      "cell_type": "code",
      "metadata": {
        "id": "IrJiayfRnG88"
      },
      "source": [
        "#Train the model and whole data \n",
        "\n",
        "y = df['readmitted'].values\n",
        "X = df.drop(['readmitted'],axis=1)\n",
        "best_model = Train_BEST_MODEL(X)\n",
        "\n",
        "\n",
        "#Save the model\n",
        "pickle.dump(best_model,open('best_model','ab'))"
      ],
      "execution_count": null,
      "outputs": []
    }
  ]
}